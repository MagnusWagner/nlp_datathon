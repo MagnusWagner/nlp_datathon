{
 "cells": [
  {
   "cell_type": "code",
   "execution_count": 3,
   "id": "pacific-knock",
   "metadata": {},
   "outputs": [],
   "source": [
    "# !pip install fastai"
   ]
  },
  {
   "cell_type": "code",
   "execution_count": 57,
   "id": "satisfied-england",
   "metadata": {},
   "outputs": [],
   "source": [
    "from fastai.basics import *\n",
    "from fastai.callback.all import *\n",
    "from fastai.text.all import *\n",
    "import pandas as pd\n",
    "import numpy as np\n",
    "import random\n",
    "from sklearn.model_selection import train_test_split\n",
    "# from fastai.data.all import *"
   ]
  },
  {
   "cell_type": "code",
   "execution_count": 27,
   "id": "romance-subcommittee",
   "metadata": {},
   "outputs": [
    {
     "data": {
      "text/html": [
       "<div>\n",
       "<style scoped>\n",
       "    .dataframe tbody tr th:only-of-type {\n",
       "        vertical-align: middle;\n",
       "    }\n",
       "\n",
       "    .dataframe tbody tr th {\n",
       "        vertical-align: top;\n",
       "    }\n",
       "\n",
       "    .dataframe thead th {\n",
       "        text-align: right;\n",
       "    }\n",
       "</style>\n",
       "<table border=\"1\" class=\"dataframe\">\n",
       "  <thead>\n",
       "    <tr style=\"text-align: right;\">\n",
       "      <th></th>\n",
       "      <th>Unnamed: 0</th>\n",
       "      <th>Narrative</th>\n",
       "      <th>Abteilung</th>\n",
       "    </tr>\n",
       "  </thead>\n",
       "  <tbody>\n",
       "    <tr>\n",
       "      <th>0</th>\n",
       "      <td>260</td>\n",
       "      <td>Ich bin begeistert von Ihren Programmen und nutze Windows 7 auf einem Notebook (was aber etwas umständlich ist, da zu klein) und einen iMac, welcher aufgrund der Größe wesentlich komfortabler ist. Sind Ihre Programme Apple-kompatibel? ...oder gibt es da etwaige Probleme oder Einschränkungen? Über eine schnelle Antwort würde ich mich freuen, da ich darauf brenne Ihre Programme zu nutzen.</td>\n",
       "      <td>4</td>\n",
       "    </tr>\n",
       "    <tr>\n",
       "      <th>1</th>\n",
       "      <td>210</td>\n",
       "      <td>Mein Super Bill administrator funktioniert nicht auf Windows 7 Wo kann ich eine abgrade Version bekommen ? oder muss ich das Programm neu kaufen ?</td>\n",
       "      <td>4</td>\n",
       "    </tr>\n",
       "    <tr>\n",
       "      <th>2</th>\n",
       "      <td>522</td>\n",
       "      <td>Sehr geehrter Damen und Herrn, am 31.10.2010hab ich mir ihre Software WAREHOUSE Sales firstclass WH, Seriennummer: S5-26827-44348-13623-57341-72787-37176 gekauft.  Ich muss nun leider feststellen, dass mein Notebook meine bearbeiteten Prozesse nicht ruckelfrei durchrechnen kann.   Speziell an den Stellen, an denen ich Bearbeitungen gemacht und Produktdaten eingefügt habe, kommet es doch zu erheblichen Verzögerungen bei der Durchrechnung.  Ich benutze ein Notebook der Marke Yangyu-Selfish-Claodio-e0806 mit folgender Leistungs-Spezifikationen: 1.Prozessor: Intel (R) Core (TM) 5 Duo CPU T543...</td>\n",
       "      <td>1</td>\n",
       "    </tr>\n",
       "    <tr>\n",
       "      <th>3</th>\n",
       "      <td>317</td>\n",
       "      <td>Vor dem Brenne tritt folgendes Problem auf.  Wo kann ich meinen Brenner einstellen, bzw. brauche ich einen neuen Brenner. Kann ja aber nicht wirklich sein?  Mein Brenner ist ein integrierter im Laptop.  Laptop HP Compaq 2850s Brenner/ Laufwerk GWWF corp. CD/DVDW TS-L403M SATA Device  Ich kann über den Imagecopier das Projekt abschliessen.  Vielen Dank für die Beantwortung.</td>\n",
       "      <td>2</td>\n",
       "    </tr>\n",
       "    <tr>\n",
       "      <th>4</th>\n",
       "      <td>436</td>\n",
       "      <td>Also ich habe mir kürzlich den Specs Manager 9 zugelegt. Nun ist mein Detailsheet fast fertig -24 Blätter/150 MB- es fehlen nur noch ein paar weitere Daten und dann könnte ich es entlich heraus geben... Leider hat sich aber nun ein Problem aufgetan das ich allein nicht lösen kann: Seit ein paar Tagen bekomme ich immer die Fehlermeldung \"Nicht ausreichender Speicher\" ich bekomme zur Zeit nicht mal mein Projekt vollständig über das Programm aufgerufen!!! Bei der Darstellung über das Programm sind einige Daten weg und bis auf 5-6 Blätter alle anderen auch...;o( Nur über die \"Blätter und Eben...</td>\n",
       "      <td>5</td>\n",
       "    </tr>\n",
       "  </tbody>\n",
       "</table>\n",
       "</div>"
      ],
      "text/plain": [
       "   Unnamed: 0  \\\n",
       "0         260   \n",
       "1         210   \n",
       "2         522   \n",
       "3         317   \n",
       "4         436   \n",
       "\n",
       "                                                                                                                                                                                                                                                                                                                                                                                                                                                                                                                                                                                                                 Narrative  \\\n",
       "0                                                                                                                                                                                                              Ich bin begeistert von Ihren Programmen und nutze Windows 7 auf einem Notebook (was aber etwas umständlich ist, da zu klein) und einen iMac, welcher aufgrund der Größe wesentlich komfortabler ist. Sind Ihre Programme Apple-kompatibel? ...oder gibt es da etwaige Probleme oder Einschränkungen? Über eine schnelle Antwort würde ich mich freuen, da ich darauf brenne Ihre Programme zu nutzen.         \n",
       "1                                                                                                                                                                                                                                                                                                                                                                                                                                                                 Mein Super Bill administrator funktioniert nicht auf Windows 7 Wo kann ich eine abgrade Version bekommen ? oder muss ich das Programm neu kaufen ?         \n",
       "2   Sehr geehrter Damen und Herrn, am 31.10.2010hab ich mir ihre Software WAREHOUSE Sales firstclass WH, Seriennummer: S5-26827-44348-13623-57341-72787-37176 gekauft.  Ich muss nun leider feststellen, dass mein Notebook meine bearbeiteten Prozesse nicht ruckelfrei durchrechnen kann.   Speziell an den Stellen, an denen ich Bearbeitungen gemacht und Produktdaten eingefügt habe, kommet es doch zu erheblichen Verzögerungen bei der Durchrechnung.  Ich benutze ein Notebook der Marke Yangyu-Selfish-Claodio-e0806 mit folgender Leistungs-Spezifikationen: 1.Prozessor: Intel (R) Core (TM) 5 Duo CPU T543...   \n",
       "3                                                                                                                                                                                                                            Vor dem Brenne tritt folgendes Problem auf.  Wo kann ich meinen Brenner einstellen, bzw. brauche ich einen neuen Brenner. Kann ja aber nicht wirklich sein?  Mein Brenner ist ein integrierter im Laptop.  Laptop HP Compaq 2850s Brenner/ Laufwerk GWWF corp. CD/DVDW TS-L403M SATA Device  Ich kann über den Imagecopier das Projekt abschliessen.  Vielen Dank für die Beantwortung.         \n",
       "4   Also ich habe mir kürzlich den Specs Manager 9 zugelegt. Nun ist mein Detailsheet fast fertig -24 Blätter/150 MB- es fehlen nur noch ein paar weitere Daten und dann könnte ich es entlich heraus geben... Leider hat sich aber nun ein Problem aufgetan das ich allein nicht lösen kann: Seit ein paar Tagen bekomme ich immer die Fehlermeldung \"Nicht ausreichender Speicher\" ich bekomme zur Zeit nicht mal mein Projekt vollständig über das Programm aufgerufen!!! Bei der Darstellung über das Programm sind einige Daten weg und bis auf 5-6 Blätter alle anderen auch...;o( Nur über die \"Blätter und Eben...   \n",
       "\n",
       "   Abteilung  \n",
       "0          4  \n",
       "1          4  \n",
       "2          1  \n",
       "3          2  \n",
       "4          5  "
      ]
     },
     "execution_count": 27,
     "metadata": {},
     "output_type": "execute_result"
    }
   ],
   "source": [
    "df_train=pd.read_csv(\"data/train.csv\")\n",
    "df_train.head()"
   ]
  },
  {
   "cell_type": "code",
   "execution_count": 60,
   "id": "executed-allowance",
   "metadata": {},
   "outputs": [],
   "source": [
    "mask = np.ones(df_train.shape[0], np.bool)\n",
    "xsplit = np.array(random.sample(range(df_train.shape[0]),round(0.8*df_train.shape[0])))\n",
    "mask[xsplit] = 0\n",
    "ysplit=np.arange(df_train.shape[0])[mask]\n",
    "splits=[xsplit,ysplit]"
   ]
  },
  {
   "cell_type": "code",
   "execution_count": 129,
   "id": "prospective-archives",
   "metadata": {},
   "outputs": [],
   "source": [
    "# dls.show_batch(max_n=2)"
   ]
  },
  {
   "cell_type": "code",
   "execution_count": 121,
   "id": "stable-startup",
   "metadata": {},
   "outputs": [],
   "source": [
    "def getItems(dataframePath):\n",
    "    return np.asarray(pd.read_csv(dataframePath,sep=\",\").iloc[:,1:])\n",
    "def getX(row):\n",
    "    return row[0]\n",
    "def getY(row):\n",
    "    return row[1]"
   ]
  },
  {
   "cell_type": "code",
   "execution_count": 118,
   "id": "american-training",
   "metadata": {},
   "outputs": [
    {
     "data": {
      "text/plain": [
       "4"
      ]
     },
     "execution_count": 118,
     "metadata": {},
     "output_type": "execute_result"
    }
   ],
   "source": [
    "getItems(\"data/train.csv\")[0][1]"
   ]
  },
  {
   "cell_type": "code",
   "execution_count": 122,
   "id": "medium-duplicate",
   "metadata": {},
   "outputs": [],
   "source": [
    "tfms = [attrgetter(\"text\"), Tokenizer.from_df(0), Numericalize()]\n",
    "\n",
    "dblock = DataBlock(blocks=(DataBlock,CategoryBlock),\n",
    "                   get_items=getItems,\n",
    "                   get_x=getX,\n",
    "                   get_y=getY,\n",
    "                   splitter=RandomSplitter(),\n",
    "                   batch_tfms=tfms)\n",
    "dsets=dblock.datasets(\"data/train.csv\")"
   ]
  },
  {
   "cell_type": "code",
   "execution_count": 126,
   "id": "periodic-arkansas",
   "metadata": {},
   "outputs": [
    {
     "data": {
      "text/plain": [
       "(' Ich bin begeistert von Ihren Programmen und nutze Windows 7 auf einem Notebook (was aber etwas umständlich ist, da zu klein) und einen iMac, welcher aufgrund der Größe wesentlich komfortabler ist. Sind Ihre Programme Apple-kompatibel? ...oder gibt es da etwaige Probleme oder Einschränkungen? Über eine schnelle Antwort würde ich mich freuen, da ich darauf brenne Ihre Programme zu nutzen.      ',\n",
       " TensorCategory(3, dtype=torch.int32))"
      ]
     },
     "execution_count": 126,
     "metadata": {},
     "output_type": "execute_result"
    }
   ],
   "source": [
    "dsets[0]"
   ]
  }
 ],
 "metadata": {
  "kernelspec": {
   "display_name": "Python 3",
   "language": "python",
   "name": "python3"
  },
  "language_info": {
   "codemirror_mode": {
    "name": "ipython",
    "version": 3
   },
   "file_extension": ".py",
   "mimetype": "text/x-python",
   "name": "python",
   "nbconvert_exporter": "python",
   "pygments_lexer": "ipython3",
   "version": "3.7.9"
  }
 },
 "nbformat": 4,
 "nbformat_minor": 5
}
