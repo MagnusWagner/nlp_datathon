{
 "cells": [
  {
   "cell_type": "markdown",
   "metadata": {
    "cell_id": "00000-b19b823f-72ab-46d8-a6e6-133ed4df74b6",
    "deepnote_cell_type": "markdown",
    "tags": []
   },
   "source": [
    "## Example Usage of the GMail Python API\n",
    "\n",
    "This Notebook shows the basic usage of the GMail API\n",
    "\n",
    "1. Load E-Mails from the server\n",
    "\n",
    "2. Send E-Mails with the server\n",
    "\n",
    "In order to be able to use the API you need a valid token as a .pickle file. In the first initialization of the GMail service you need to pass the path to this token.pickle file. Change the parameter below to your file to rerun the examples. \n",
    "\n",
    "\n",
    "For furhter information on how to send attachments, ... please consult the Documentation: \n",
    "\n",
    "https://googleapis.github.io/google-api-python-client/docs/epy/index.html\n",
    "\n",
    "and the Guide: \n",
    "\n",
    "https://developers.google.com/gmail/api/quickstart/python"
   ]
  },
  {
   "cell_type": "code",
   "execution_count": 48,
   "metadata": {},
   "outputs": [],
   "source": [
    "# !pip install --upgrade google-api-python-client google-auth-httplib2 google-auth-oauthlib\n",
    "# !pip install typing"
   ]
  },
  {
   "cell_type": "code",
   "execution_count": 1,
   "metadata": {
    "cell_id": "00001-e3986109-1398-4025-b887-c22061c95deb",
    "deepnote_cell_type": "code",
    "deepnote_to_be_reexecuted": false,
    "execution_millis": 518,
    "execution_start": 1610662132157,
    "source_hash": "ede19e4c",
    "tags": []
   },
   "outputs": [],
   "source": [
    "from googleapiclient.discovery import build, Resource\n",
    "from email.mime.text import MIMEText\n",
    "import base64\n",
    "import pickle\n",
    "import os\n",
    "from typing import Dict\n",
    "import email\n",
    "import pandas as pd\n",
    "import numpy as np\n",
    "import torch\n",
    "from transformers import *\n",
    "from scipy.special import softmax"
   ]
  },
  {
   "cell_type": "markdown",
   "metadata": {
    "cell_id": "00003-475b06d0-4084-4e83-b410-ac8967e9f930",
    "deepnote_cell_type": "markdown",
    "tags": []
   },
   "source": [
    "### Basic Functions"
   ]
  },
  {
   "cell_type": "code",
   "execution_count": 90,
   "metadata": {
    "cell_id": "00002-d535a8ac-208e-484d-9f9f-635072e87cf7",
    "deepnote_cell_type": "code",
    "deepnote_to_be_reexecuted": false,
    "execution_millis": 2,
    "execution_start": 1610662132680,
    "source_hash": "d5049c03",
    "tags": []
   },
   "outputs": [],
   "source": [
    "def load_service(token_path:str):\n",
    "    \"\"\" Load the service from the specifies token file\n",
    "\n",
    "    Args:\n",
    "        token_path (str): Authorized Gmail API service instance.\n",
    "    \"\"\"\n",
    "    if os.path.exists(token_path):\n",
    "        with open(token_path, 'rb') as token:\n",
    "            creds = pickle.load(token)\n",
    "            service = build('gmail', 'v1', credentials=creds)\n",
    "            return service\n",
    "\n",
    "    else: \n",
    "        print(\"Credentials not found\")\n",
    "        return None"
   ]
  },
  {
   "cell_type": "code",
   "execution_count": 91,
   "metadata": {
    "cell_id": "00003-c6e0ed72-b921-4924-bf00-2e8aca363fb2",
    "deepnote_cell_type": "code",
    "deepnote_to_be_reexecuted": false,
    "execution_millis": 2,
    "execution_start": 1610662132685,
    "source_hash": "1ae55261",
    "tags": []
   },
   "outputs": [],
   "source": [
    "def send_message(service:Resource, user_id:str, message:Dict[str,str]):\n",
    "    \"\"\"Send an email message.\n",
    "\n",
    "    Args:\n",
    "        service (Resource): Authorized Gmail API service instance.\n",
    "        user_id (str): User's email address. The special value \"me\" can be used to indicate the authenticated user.\n",
    "        message (Dict[str,str]): Message to be sent.\n",
    "    \"\"\"\n",
    "    try:\n",
    "        message = (service.users().messages().send(userId=user_id, body=message)\n",
    "                  .execute())\n",
    "        print('Message Id: %s' % message['id'])\n",
    "    except Exception as e:\n",
    "        print('An error occurred: %s' % e)"
   ]
  },
  {
   "cell_type": "markdown",
   "metadata": {},
   "source": [
    "# Create Message"
   ]
  },
  {
   "cell_type": "code",
   "execution_count": 162,
   "metadata": {
    "cell_id": "00004-5aaf8171-2f89-430a-8000-2d4a2b4506cf",
    "deepnote_cell_type": "code",
    "deepnote_to_be_reexecuted": false,
    "execution_millis": 3,
    "execution_start": 1610662132689,
    "source_hash": "3f001b3c",
    "tags": []
   },
   "outputs": [],
   "source": [
    "def create_message(sender:str, to:str, subject:str, message_text:str) -> Dict[str,str]:\n",
    "\n",
    "    message = MIMEText(message_text,\"html\",_charset=\"utf-8\")\n",
    "    message['to'] = to\n",
    "    message['from'] = sender\n",
    "    message['subject'] = subject\n",
    "    encoded_message = base64.urlsafe_b64encode(message.as_bytes())\n",
    "    return {'raw': encoded_message.decode()}"
   ]
  },
  {
   "cell_type": "code",
   "execution_count": 161,
   "metadata": {},
   "outputs": [
    {
     "name": "stdout",
     "output_type": "stream",
     "text": [
      "VGFzZXJzdGVyw7Y=\n",
      "\n"
     ]
    }
   ],
   "source": [
    "message = create_message(\"datathon@lumos-consulting.at\", \"team4@lumos-consulting.at\", \"Test1\",\"Tasersterö\")\n",
    "# message = create_message(\"team4@lumos-consulting.at\", \"team4@lumos-consulting.at\", \"Test_1\", \"Ich habe WAREHOUSE Produkte im IT&OFFICEKatalog15 firstclass standardmaessig installiert. Die Installation lief fehlerfrei ab und wurde ordnungsgemaess abgeschlossen. Das Programm wurde anschliessend registriert.  Beim Programmaufruf kommt fuer ca. 4-5 Sekunden die Sanduhr auf dem Bildschirm, sonst keine weitere Reaktionen, keine Fehlermeldungen, Warnungen etc. Das Programm wird nicht gestartet.\")\n",
    "# message"
   ]
  },
  {
   "cell_type": "code",
   "execution_count": 93,
   "metadata": {
    "cell_id": "00006-0b7c2624-890e-423c-9035-3192cbf878e5",
    "deepnote_cell_type": "code",
    "deepnote_to_be_reexecuted": false,
    "execution_millis": 3,
    "execution_start": 1610662132696,
    "source_hash": "6ee21093",
    "tags": []
   },
   "outputs": [],
   "source": [
    "def receive_unread_messages(service:Resource):\n",
    "    \"\"\" Recieve all unread messages and print them\n",
    "\n",
    "        Args:\n",
    "        service (Resource): Authorized Gmail API service instance.\n",
    "\n",
    "    \"\"\"\n",
    "    messages = []\n",
    "    # request a list of all the messages \n",
    "    result = service.users().messages().list(userId='me').execute() \n",
    "  \n",
    "    # iterate through all the messages \n",
    "    for msg in result.get('messages') : \n",
    "        # Get the message from its id   \n",
    "        # Use try-except to avoid any Errors \n",
    "        message = service.users().messages().get(userId=\"me\", id=msg[\"id\"],\n",
    "                                             format='raw').execute()\n",
    "        \n",
    "        \n",
    "        if \"UNREAD\" in message[\"labelIds\"]:\n",
    "            try:\n",
    "                print(message[\"id\"])\n",
    "                msg_str = base64.urlsafe_b64decode(message['raw'].encode(\"utf-8\")).decode(\"utf-8\")\n",
    "                print(msg_str)\n",
    "                mime_msg = email.message_from_string(msg_str)\n",
    "                \n",
    "                messages.append((message[\"id\"],mime_msg))\n",
    "    \n",
    "            except: \n",
    "                print(\"error\")\n",
    "                pass\n",
    "    return messages"
   ]
  },
  {
   "cell_type": "code",
   "execution_count": 165,
   "metadata": {},
   "outputs": [],
   "source": [
    "def receive_all_messages(service:Resource):\n",
    "    \"\"\" Recieve all messages and print them\n",
    "\n",
    "        Args:\n",
    "        service (Resource): Authorized Gmail API service instance.\n",
    "\n",
    "    \"\"\"\n",
    "    messages = []\n",
    "    # request a list of all the messages \n",
    "    result = service.users().messages().list(userId='me').execute() \n",
    "  \n",
    "    # iterate through all the messages \n",
    "    for msg in result.get('messages') : \n",
    "        # Get the message from its id   \n",
    "        # Use try-except to avoid any Errors \n",
    "        message = service.users().messages().get(userId=\"me\", id=msg[\"id\"],\n",
    "                                             format='raw').execute()\n",
    "        \n",
    "        \n",
    "        \n",
    "        try:\n",
    "            print(message[\"id\"])\n",
    "            msg_str = base64.urlsafe_b64decode(message['raw'].encode(\"utf-8\")).decode(\"utf-8\")\n",
    "            print(msg_str)\n",
    "            mime_msg = email.message_from_string(msg_str)\n",
    "\n",
    "            messages.append((message[\"id\"],mime_msg))\n",
    "\n",
    "        except: \n",
    "            print(\"error\")\n",
    "            pass\n",
    "    return messages"
   ]
  },
  {
   "cell_type": "code",
   "execution_count": 95,
   "metadata": {
    "cell_id": "00007-d59d6ff8-27b4-4ab3-989f-aa1e9c162fd9",
    "deepnote_cell_type": "code",
    "deepnote_to_be_reexecuted": false,
    "execution_millis": 2,
    "execution_start": 1610662132701,
    "source_hash": "c911aae4",
    "tags": []
   },
   "outputs": [],
   "source": [
    "def print_message(message):\n",
    "    \"\"\" Print the Content of a Message\n",
    "\n",
    "    Args:\n",
    "        message (email): The email encoded message\n",
    "    \"\"\"\n",
    "    try:\n",
    "        if message.is_multipart():\n",
    "            for payload in message.get_payload():\n",
    "                print(payload.get_payload())\n",
    "        else:\n",
    "            print(message.get_payload())\n",
    "    except:\n",
    "        message.get_payload()"
   ]
  },
  {
   "cell_type": "code",
   "execution_count": 96,
   "metadata": {},
   "outputs": [],
   "source": [
    "def get_text_from_message(message):\n",
    "    \"\"\" Print the Content of a Message\n",
    "\n",
    "    Args:\n",
    "        message (email): The email encoded message\n",
    "    \"\"\"\n",
    "    retText=\"\"\n",
    "    try:\n",
    "        if message.is_multipart():\n",
    "\n",
    "            for payload in message.get_payload():\n",
    "                retText+=str(payload.get_payload())\n",
    "                retText+=\"\\n\"\n",
    "        else:\n",
    "            retText+=str(message.get_payload())\n",
    "    except:\n",
    "        message.get_payload()\n",
    "    return retText"
   ]
  },
  {
   "cell_type": "markdown",
   "metadata": {},
   "source": [
    "### Eigene Funktionen"
   ]
  },
  {
   "cell_type": "code",
   "execution_count": 97,
   "metadata": {},
   "outputs": [],
   "source": [
    "def markAsRead(service:Resource, message_id):\n",
    "    if type(message_id) is list:\n",
    "        for mid in message_id:\n",
    "            service.users().messages().modify(userId='me', id=mid, body={'removeLabelIds': ['UNREAD']}).execute()\n",
    "    else:\n",
    "        service.users().messages().modify(userId='me', id=message_id, body={'removeLabelIds': ['UNREAD']}).execute()\n",
    "    \n",
    "def deleteMail(service:Resource, message_id):\n",
    "    if type(message_id) is list:\n",
    "        for mid in message_id:\n",
    "            service.users().messages().delete(userId=\"me\", id=mid).execute()\n",
    "    else:\n",
    "        service.users().messages().delete(userId=\"me\", id=message_id).execute()"
   ]
  },
  {
   "cell_type": "code",
   "execution_count": 98,
   "metadata": {},
   "outputs": [],
   "source": [
    "# Nötig, wenn Nachrichten von Google reinkommen.\n",
    "# deleteMail(service,\"1777346d2ae8e766\")"
   ]
  },
  {
   "cell_type": "markdown",
   "metadata": {
    "cell_id": "00009-e6e50990-cb43-4d10-9346-7fea879c52cf",
    "deepnote_cell_type": "markdown",
    "tags": []
   },
   "source": [
    "### Usage of the function"
   ]
  },
  {
   "cell_type": "code",
   "execution_count": 99,
   "metadata": {
    "cell_id": "00009-5e394748-a6d4-40a9-bd0c-69f785319bc9",
    "deepnote_cell_type": "code",
    "deepnote_to_be_reexecuted": false,
    "execution_millis": 0,
    "execution_start": 1610662132748,
    "source_hash": "aa3c9226",
    "tags": []
   },
   "outputs": [],
   "source": [
    "token_path = \"token.pickle\""
   ]
  },
  {
   "cell_type": "code",
   "execution_count": 100,
   "metadata": {
    "cell_id": "00009-35f0d5f4-54cd-4922-88f0-e4e894e8c259",
    "deepnote_cell_type": "code",
    "deepnote_to_be_reexecuted": false,
    "execution_millis": 172,
    "execution_start": 1610662132749,
    "source_hash": "2a1700ac",
    "tags": []
   },
   "outputs": [],
   "source": [
    "service = load_service(token_path)"
   ]
  },
  {
   "cell_type": "code",
   "execution_count": 166,
   "metadata": {},
   "outputs": [
    {
     "name": "stdout",
     "output_type": "stream",
     "text": [
      "177737d99b836960\n",
      "Received: from 918173104422\n",
      "\tnamed unknown\n",
      "\tby gmailapi.google.com\n",
      "\twith HTTPREST;\n",
      "\tFri, 5 Feb 2021 10:39:06 -0800\n",
      "Content-Type: text/plain; charset=\"utf-8\"\n",
      "MIME-Version: 1.0\n",
      "Content-Transfer-Encoding: base64\n",
      "to: team4@lumos-consulting.at\n",
      "from: team4@lumos-consulting.at\n",
      "subject: Test_1\n",
      "Date: Fri, 5 Feb 2021 10:39:06 -0800\n",
      "Message-Id: <CAEzfA9rqW56A3LSUJOu5KywkeH-G+tWL4sPoZaFsKqabDYL1nw@mail.gmail.com>\n",
      "\n",
      "SWNoIGhhYmUgV0FSRUhPVVNFIFByb2R1a3RlIGltIElUJk9GRklDRUthdGFsb2cxNSBmaXJzdGNs\n",
      "YXNzIHN0YW5kYXJkbWFlc3NpZyBpbnN0YWxsaWVydC4gRGllIEluc3RhbGxhdGlvbiBsaWVmIGZl\n",
      "aGxlcmZyZWkgYWIgdW5kIHd1cmRlIG9yZG51bmdzZ2VtYWVzcyBhYmdlc2NobG9zc2VuLiBEYXMg\n",
      "UHJvZ3JhbW0gd3VyZGUgYW5zY2hsaWVzc2VuZCByZWdpc3RyaWVydC4gIEJlaW0gUHJvZ3JhbW1h\n",
      "dWZydWYga29tbXQgZnVlciBjYS4gNC01IFNla3VuZGVuIGRpZSBTYW5kdWhyIGF1ZiBkZW0gQmls\n",
      "ZHNjaGlybSwgc29uc3Qga2VpbmUgd2VpdGVyZSBSZWFrdGlvbmVuLCBrZWluZSBGZWhsZXJtZWxk\n",
      "dW5nZW4sIFdhcm51bmdlbiBldGMuIERhcyBQcm9ncmFtbSB3aXJkIG5pY2h0IGdlc3RhcnRldC4=\n",
      "\n"
     ]
    }
   ],
   "source": [
    "messages = receive_all_messages(service)"
   ]
  },
  {
   "cell_type": "code",
   "execution_count": 106,
   "metadata": {
    "cell_id": "00010-6ee71db3-bb96-4e99-8d23-4ea09249f6a9",
    "deepnote_cell_type": "code",
    "deepnote_to_be_reexecuted": false,
    "execution_millis": 0,
    "execution_start": 1610662132968,
    "source_hash": "a1dab781",
    "tags": []
   },
   "outputs": [
    {
     "name": "stdout",
     "output_type": "stream",
     "text": [
      "VGFzZXJzdGVy\n",
      "\n"
     ]
    },
    {
     "data": {
      "text/plain": [
       "{'raw': 'Q29udGVudC1UeXBlOiB0ZXh0L3BsYWluOyBjaGFyc2V0PSJ1dGYtOCIKTUlNRS1WZXJzaW9uOiAxLjAKQ29udGVudC1UcmFuc2Zlci1FbmNvZGluZzogYmFzZTY0CnRvOiB0ZWFtNEBsdW1vcy1jb25zdWx0aW5nLmF0CmZyb206IGRhdGF0aG9uQGx1bW9zLWNvbnN1bHRpbmcuYXQKc3ViamVjdDogVGVzdDEKClZHRnpaWEp6ZEdWeQo='}"
      ]
     },
     "execution_count": 106,
     "metadata": {},
     "output_type": "execute_result"
    }
   ],
   "source": [
    "message = create_message(\"datathon@lumos-consulting.at\", \"team4@lumos-consulting.at\", \"Test1\",\"Taserster\")\n",
    "# message = create_message(\"team4@lumos-consulting.at\", \"team4@lumos-consulting.at\", \"Test_1\", \"Ich habe WAREHOUSE Produkte im IT&OFFICEKatalog15 firstclass standardmaessig installiert. Die Installation lief fehlerfrei ab und wurde ordnungsgemaess abgeschlossen. Das Programm wurde anschliessend registriert.  Beim Programmaufruf kommt fuer ca. 4-5 Sekunden die Sanduhr auf dem Bildschirm, sonst keine weitere Reaktionen, keine Fehlermeldungen, Warnungen etc. Das Programm wird nicht gestartet.\")\n",
    "message"
   ]
  },
  {
   "cell_type": "code",
   "execution_count": 86,
   "metadata": {
    "cell_id": "00011-104e7ccc-a617-45cd-954f-52520c6c8bac",
    "deepnote_cell_type": "code",
    "deepnote_to_be_reexecuted": false,
    "execution_millis": 291,
    "execution_start": 1610662132969,
    "source_hash": "eb285e2",
    "tags": []
   },
   "outputs": [
    {
     "name": "stdout",
     "output_type": "stream",
     "text": [
      "Message Id: 177737d99b836960\n"
     ]
    }
   ],
   "source": [
    "send_message(service, \"me\", message)"
   ]
  },
  {
   "cell_type": "code",
   "execution_count": 87,
   "metadata": {
    "cell_id": "00012-bc899e07-6643-41f7-8eec-a8a0fffd0583",
    "deepnote_cell_type": "code",
    "deepnote_to_be_reexecuted": false,
    "execution_millis": 760,
    "execution_start": 1610662133266,
    "source_hash": "7dea2e23",
    "tags": []
   },
   "outputs": [
    {
     "name": "stdout",
     "output_type": "stream",
     "text": [
      "177737d99b836960\n",
      "Received: from 918173104422\n",
      "\tnamed unknown\n",
      "\tby gmailapi.google.com\n",
      "\twith HTTPREST;\n",
      "\tFri, 5 Feb 2021 10:39:06 -0800\n",
      "Content-Type: text/plain; charset=\"utf-8\"\n",
      "MIME-Version: 1.0\n",
      "Content-Transfer-Encoding: base64\n",
      "to: team4@lumos-consulting.at\n",
      "from: team4@lumos-consulting.at\n",
      "subject: Test_1\n",
      "Date: Fri, 5 Feb 2021 10:39:06 -0800\n",
      "Message-Id: <CAEzfA9rqW56A3LSUJOu5KywkeH-G+tWL4sPoZaFsKqabDYL1nw@mail.gmail.com>\n",
      "\n",
      "SWNoIGhhYmUgV0FSRUhPVVNFIFByb2R1a3RlIGltIElUJk9GRklDRUthdGFsb2cxNSBmaXJzdGNs\n",
      "YXNzIHN0YW5kYXJkbWFlc3NpZyBpbnN0YWxsaWVydC4gRGllIEluc3RhbGxhdGlvbiBsaWVmIGZl\n",
      "aGxlcmZyZWkgYWIgdW5kIHd1cmRlIG9yZG51bmdzZ2VtYWVzcyBhYmdlc2NobG9zc2VuLiBEYXMg\n",
      "UHJvZ3JhbW0gd3VyZGUgYW5zY2hsaWVzc2VuZCByZWdpc3RyaWVydC4gIEJlaW0gUHJvZ3JhbW1h\n",
      "dWZydWYga29tbXQgZnVlciBjYS4gNC01IFNla3VuZGVuIGRpZSBTYW5kdWhyIGF1ZiBkZW0gQmls\n",
      "ZHNjaGlybSwgc29uc3Qga2VpbmUgd2VpdGVyZSBSZWFrdGlvbmVuLCBrZWluZSBGZWhsZXJtZWxk\n",
      "dW5nZW4sIFdhcm51bmdlbiBldGMuIERhcyBQcm9ncmFtbSB3aXJkIG5pY2h0IGdlc3RhcnRldC4=\n",
      "\n"
     ]
    }
   ],
   "source": [
    "messages = receive_unread_messages(service)\n"
   ]
  },
  {
   "cell_type": "code",
   "execution_count": 23,
   "metadata": {
    "cell_id": "00016-dfa6e8de-5983-4328-b441-49aa657b1b2d",
    "deepnote_cell_type": "code",
    "deepnote_to_be_reexecuted": false,
    "execution_millis": 1,
    "execution_start": 1610662134037,
    "source_hash": "b623e53d",
    "tags": []
   },
   "outputs": [],
   "source": [
    "labellist=np.arange(1,7)\n",
    "PATH=\"final_model\"\n",
    "from transformers import AutoModelForSequenceClassification, AutoTokenizer\n",
    "\n",
    "def predictAbteilung(text):\n",
    "    model = AutoModelForSequenceClassification.from_pretrained(PATH)\n",
    "    tokenizer = AutoTokenizer.from_pretrained(PATH)\n",
    "    labels = torch.tensor([1]).unsqueeze(0)\n",
    "    inputs = tokenizer(text, return_tensors=\"pt\")\n",
    "    prediction = model(**inputs, labels=labels)\n",
    "    logits=prediction.logits.detach().numpy()[0]\n",
    "    probabilities=softmax(logits)\n",
    "    return arg3max(probabilities)"
   ]
  },
  {
   "cell_type": "code",
   "execution_count": 64,
   "metadata": {},
   "outputs": [],
   "source": [
    "def arg3max(liste):\n",
    "    retList = [(0,0),(0,0),(0,0)]\n",
    "    print(liste)\n",
    "    for (count,value) in enumerate(liste):\n",
    "        if value > retList[0][1]:\n",
    "            if value > retList[1][1]:\n",
    "                if value > retList[2][1]:\n",
    "                    retList[0]=retList[1]\n",
    "                    retList[1]=retList[2]\n",
    "                    retList[2]=(count,value)\n",
    "                else:\n",
    "                    retList[0]=retList[1]\n",
    "                    retList[1]=(count,value)\n",
    "            else:\n",
    "                retList[0]=(count,value)\n",
    "    return retList\n",
    "        \n",
    "def mail_weiterleitung(service):\n",
    "    messages = receive_all_messages(service)\n",
    "    for mid,message in messages:\n",
    "        text=get_text_from_message(message)\n",
    "        predictions = predictAbteilung(text)\n",
    "        abteilung1 = labellist[predictions[2][0]]\n",
    "        abteilung2 = labellist[predictions[1][0]]\n",
    "        abteilung3 = labellist[predictions[0][0]]\n",
    "        text+=\"\\n__________________________________________\\nDiese Mail ist mit {p1:.2f} % Wahrscheinlichkeit für Abteilung {a1} bestimmt.\\n\\nMit {p2:.2f} % Wahrscheinlichkeit könnte Sie für Abteilung {a2} und mit {p3:.2f} % Wahrscheinlichkeit für Abteilung {a3} bestimmt sein.\".format(p1=predictions[2][1]*100,p2=predictions[1][1]*100,p3=predictions[0][1]*100,a1=str(abteilung1),a2=str(abteilung2),a3=str(abteilung3))\n",
    "        if predictions[2][1]-predictions[2][1]>0.2:\n",
    "            betreff=\"Abteilung \"+str(abteilung1)+\":  \"+str(message[\"subject\"])\n",
    "        else:\n",
    "            betreff=\"Unklarheit bei Zuweisung: \"+str(message[\"subject\"])\n",
    "        wl_message = create_message(\"team4@lumos-consulting.at\", \"team4@lumos-consulting.at\", betreff, text)\n",
    "        send_message(service, \"me\", wl_message)\n",
    "        deleteMail(service,mid)"
   ]
  },
  {
   "cell_type": "code",
   "execution_count": 65,
   "metadata": {},
   "outputs": [
    {
     "name": "stdout",
     "output_type": "stream",
     "text": [
      "17773354db0c32bc\n",
      "Received: from 918173104422\n",
      "\tnamed unknown\n",
      "\tby gmailapi.google.com\n",
      "\twith HTTPREST;\n",
      "\tFri, 5 Feb 2021 09:20:08 -0800\n",
      "Content-Type: text/html; charset=\"utf-8\"\n",
      "MIME-Version: 1.0\n",
      "Content-Transfer-Encoding: base64\n",
      "to: team4@lumos-consulting.at\n",
      "from: team4@lumos-consulting.at\n",
      "subject: Unklarheit bei Zuweisung: Test_2\n",
      "Date: Fri, 5 Feb 2021 09:20:08 -0800\n",
      "Message-Id: <CAEzfA9oHaEya1c9rUBvyXvKSLfkGwUmNvU_tqBEaubhOpG7Qfw@mail.gmail.com>\n",
      "\n",
      "VTJWb2NpQm5aV1ZvY25SbGN5QlhZWEpsYUc5MWMyVXRWR1ZoYlN3Z2FXTm9JR2hoWW1VZ1pHbGxJ\n",
      "RU5rSUVKcGJHd2dRMnhsWVc1bApjaUJUZEhWa2FXOGdkbVZ5YTJGMVpuUXNJRzUxYmlCb1lYUWda\n",
      "R1Z5SUV2RHBIVm1aWElnWldsdUlGQnliMkpzWlcwZ1pYSWdhMkZ1CmJpQnRhWFFnWkdsbGMyVnlJ\n",
      "Rk52Wm5SM1lYSmxJR3RsYVc1bElIVndaR0YwWlhNZ2JXRmphR1Z1TENCa1lTQmthV1VnVTI5bWRI\n",
      "ZGgKY21VZ2FXMXRaWElnYm05amFDQmhkV1lnYldWcGJtVnVJRTVoYldWdUlDaEJZMk4xYm5RcElI\n",
      "SmxaMmx6ZEhKcFpYSjBJR2x6ZEM0ZwpSWE1nYVhOMElHRjFZMmdnYm1samFIUWdiY08yWjJ4cFky\n",
      "Z2daR2xsYzJWeklGQnliMlIxYTNRZ1lYVnpJRzFsYVc1bGJpQkJZMk52CmRXNTBJSHAxSUd6RHRu\n",
      "TmphR1Z1TGlCWFlYTWdhMkZ1YmlCa1pYSWdTOE9rZFdabGNpQjBkVzRnZFcwZ1pHRnpJRkJ5YjJS\n",
      "MWEzUWcKUW1sc2JDQkRiR1ZoYm1WeUlGTjBkV1JwYnlCMmIyeHNJRzUxZEhwbGJpQjZkU0Jydzda\n",
      "dWJtVnVJRDhnVFdsMElFWnlaWFZ1Wkd4cApZMmhsYmlCSGNuVnpjeUJGYldsc2FXOGdSbkxEdG1o\n",
      "c2FXTm9MaUFnSUNBZ0lBPT0KCl9fX19fX19fX19fX19fX19fX19fX19fX19fX19fX19fX19fX19f\n",
      "X19fXwpEaWVzZSBNYWlsIGlzdCBtaXQgODguNTAgJSBXYWhyc2NoZWlubGljaGtlaXQgZsO8ciBB\n",
      "YnRlaWx1bmcgNSBiZXN0aW1tdC4KCk1pdCA0LjU0ICUgV2FocnNjaGVpbmxpY2hrZWl0IGvDtm5u\n",
      "dGUgU2llIGbDvHIgQWJ0ZWlsdW5nIDYgdW5kIG1pdCAzLjQ4ICUgV2FocnNjaGVpbmxpY2hrZWl0\n",
      "IGbDvHIgQWJ0ZWlsdW5nIDIgYmVzdGltbXQgc2Vpbi4=\n",
      "\n"
     ]
    },
    {
     "name": "stderr",
     "output_type": "stream",
     "text": [
      "Token indices sequence length is longer than the specified maximum sequence length for this model (974 > 512). Running this sequence through the model will result in indexing errors\n"
     ]
    },
    {
     "ename": "RuntimeError",
     "evalue": "The size of tensor a (974) must match the size of tensor b (512) at non-singleton dimension 1",
     "output_type": "error",
     "traceback": [
      "\u001b[1;31m---------------------------------------------------------------------------\u001b[0m",
      "\u001b[1;31mRuntimeError\u001b[0m                              Traceback (most recent call last)",
      "\u001b[1;32m<ipython-input-65-f4871c8b1bf3>\u001b[0m in \u001b[0;36m<module>\u001b[1;34m\u001b[0m\n\u001b[1;32m----> 1\u001b[1;33m \u001b[0mmail_weiterleitung\u001b[0m\u001b[1;33m(\u001b[0m\u001b[0mservice\u001b[0m\u001b[1;33m)\u001b[0m\u001b[1;33m\u001b[0m\u001b[1;33m\u001b[0m\u001b[0m\n\u001b[0m",
      "\u001b[1;32m<ipython-input-64-5208376fa400>\u001b[0m in \u001b[0;36mmail_weiterleitung\u001b[1;34m(service)\u001b[0m\n\u001b[0;32m     20\u001b[0m     \u001b[1;32mfor\u001b[0m \u001b[0mmid\u001b[0m\u001b[1;33m,\u001b[0m\u001b[0mmessage\u001b[0m \u001b[1;32min\u001b[0m \u001b[0mmessages\u001b[0m\u001b[1;33m:\u001b[0m\u001b[1;33m\u001b[0m\u001b[1;33m\u001b[0m\u001b[0m\n\u001b[0;32m     21\u001b[0m         \u001b[0mtext\u001b[0m\u001b[1;33m=\u001b[0m\u001b[0mget_text_from_message\u001b[0m\u001b[1;33m(\u001b[0m\u001b[0mmessage\u001b[0m\u001b[1;33m)\u001b[0m\u001b[1;33m\u001b[0m\u001b[1;33m\u001b[0m\u001b[0m\n\u001b[1;32m---> 22\u001b[1;33m         \u001b[0mpredictions\u001b[0m \u001b[1;33m=\u001b[0m \u001b[0mpredictAbteilung\u001b[0m\u001b[1;33m(\u001b[0m\u001b[0mtext\u001b[0m\u001b[1;33m)\u001b[0m\u001b[1;33m\u001b[0m\u001b[1;33m\u001b[0m\u001b[0m\n\u001b[0m\u001b[0;32m     23\u001b[0m         \u001b[0mabteilung1\u001b[0m \u001b[1;33m=\u001b[0m \u001b[0mlabellist\u001b[0m\u001b[1;33m[\u001b[0m\u001b[0mpredictions\u001b[0m\u001b[1;33m[\u001b[0m\u001b[1;36m2\u001b[0m\u001b[1;33m]\u001b[0m\u001b[1;33m[\u001b[0m\u001b[1;36m0\u001b[0m\u001b[1;33m]\u001b[0m\u001b[1;33m]\u001b[0m\u001b[1;33m\u001b[0m\u001b[1;33m\u001b[0m\u001b[0m\n\u001b[0;32m     24\u001b[0m         \u001b[0mabteilung2\u001b[0m \u001b[1;33m=\u001b[0m \u001b[0mlabellist\u001b[0m\u001b[1;33m[\u001b[0m\u001b[0mpredictions\u001b[0m\u001b[1;33m[\u001b[0m\u001b[1;36m1\u001b[0m\u001b[1;33m]\u001b[0m\u001b[1;33m[\u001b[0m\u001b[1;36m0\u001b[0m\u001b[1;33m]\u001b[0m\u001b[1;33m]\u001b[0m\u001b[1;33m\u001b[0m\u001b[1;33m\u001b[0m\u001b[0m\n",
      "\u001b[1;32m<ipython-input-23-311fd0a09f8f>\u001b[0m in \u001b[0;36mpredictAbteilung\u001b[1;34m(text)\u001b[0m\n\u001b[0;32m      8\u001b[0m     \u001b[0mlabels\u001b[0m \u001b[1;33m=\u001b[0m \u001b[0mtorch\u001b[0m\u001b[1;33m.\u001b[0m\u001b[0mtensor\u001b[0m\u001b[1;33m(\u001b[0m\u001b[1;33m[\u001b[0m\u001b[1;36m1\u001b[0m\u001b[1;33m]\u001b[0m\u001b[1;33m)\u001b[0m\u001b[1;33m.\u001b[0m\u001b[0munsqueeze\u001b[0m\u001b[1;33m(\u001b[0m\u001b[1;36m0\u001b[0m\u001b[1;33m)\u001b[0m\u001b[1;33m\u001b[0m\u001b[1;33m\u001b[0m\u001b[0m\n\u001b[0;32m      9\u001b[0m     \u001b[0minputs\u001b[0m \u001b[1;33m=\u001b[0m \u001b[0mtokenizer\u001b[0m\u001b[1;33m(\u001b[0m\u001b[0mtext\u001b[0m\u001b[1;33m,\u001b[0m \u001b[0mreturn_tensors\u001b[0m\u001b[1;33m=\u001b[0m\u001b[1;34m\"pt\"\u001b[0m\u001b[1;33m)\u001b[0m\u001b[1;33m\u001b[0m\u001b[1;33m\u001b[0m\u001b[0m\n\u001b[1;32m---> 10\u001b[1;33m     \u001b[0mprediction\u001b[0m \u001b[1;33m=\u001b[0m \u001b[0mmodel\u001b[0m\u001b[1;33m(\u001b[0m\u001b[1;33m**\u001b[0m\u001b[0minputs\u001b[0m\u001b[1;33m,\u001b[0m \u001b[0mlabels\u001b[0m\u001b[1;33m=\u001b[0m\u001b[0mlabels\u001b[0m\u001b[1;33m)\u001b[0m\u001b[1;33m\u001b[0m\u001b[1;33m\u001b[0m\u001b[0m\n\u001b[0m\u001b[0;32m     11\u001b[0m     \u001b[0mlogits\u001b[0m\u001b[1;33m=\u001b[0m\u001b[0mprediction\u001b[0m\u001b[1;33m.\u001b[0m\u001b[0mlogits\u001b[0m\u001b[1;33m.\u001b[0m\u001b[0mdetach\u001b[0m\u001b[1;33m(\u001b[0m\u001b[1;33m)\u001b[0m\u001b[1;33m.\u001b[0m\u001b[0mnumpy\u001b[0m\u001b[1;33m(\u001b[0m\u001b[1;33m)\u001b[0m\u001b[1;33m[\u001b[0m\u001b[1;36m0\u001b[0m\u001b[1;33m]\u001b[0m\u001b[1;33m\u001b[0m\u001b[1;33m\u001b[0m\u001b[0m\n\u001b[0;32m     12\u001b[0m     \u001b[0mprobabilities\u001b[0m\u001b[1;33m=\u001b[0m\u001b[0msoftmax\u001b[0m\u001b[1;33m(\u001b[0m\u001b[0mlogits\u001b[0m\u001b[1;33m)\u001b[0m\u001b[1;33m\u001b[0m\u001b[1;33m\u001b[0m\u001b[0m\n",
      "\u001b[1;32m~\\miniconda3\\lib\\site-packages\\torch\\nn\\modules\\module.py\u001b[0m in \u001b[0;36m_call_impl\u001b[1;34m(self, *input, **kwargs)\u001b[0m\n\u001b[0;32m    725\u001b[0m             \u001b[0mresult\u001b[0m \u001b[1;33m=\u001b[0m \u001b[0mself\u001b[0m\u001b[1;33m.\u001b[0m\u001b[0m_slow_forward\u001b[0m\u001b[1;33m(\u001b[0m\u001b[1;33m*\u001b[0m\u001b[0minput\u001b[0m\u001b[1;33m,\u001b[0m \u001b[1;33m**\u001b[0m\u001b[0mkwargs\u001b[0m\u001b[1;33m)\u001b[0m\u001b[1;33m\u001b[0m\u001b[1;33m\u001b[0m\u001b[0m\n\u001b[0;32m    726\u001b[0m         \u001b[1;32melse\u001b[0m\u001b[1;33m:\u001b[0m\u001b[1;33m\u001b[0m\u001b[1;33m\u001b[0m\u001b[0m\n\u001b[1;32m--> 727\u001b[1;33m             \u001b[0mresult\u001b[0m \u001b[1;33m=\u001b[0m \u001b[0mself\u001b[0m\u001b[1;33m.\u001b[0m\u001b[0mforward\u001b[0m\u001b[1;33m(\u001b[0m\u001b[1;33m*\u001b[0m\u001b[0minput\u001b[0m\u001b[1;33m,\u001b[0m \u001b[1;33m**\u001b[0m\u001b[0mkwargs\u001b[0m\u001b[1;33m)\u001b[0m\u001b[1;33m\u001b[0m\u001b[1;33m\u001b[0m\u001b[0m\n\u001b[0m\u001b[0;32m    728\u001b[0m         for hook in itertools.chain(\n\u001b[0;32m    729\u001b[0m                 \u001b[0m_global_forward_hooks\u001b[0m\u001b[1;33m.\u001b[0m\u001b[0mvalues\u001b[0m\u001b[1;33m(\u001b[0m\u001b[1;33m)\u001b[0m\u001b[1;33m,\u001b[0m\u001b[1;33m\u001b[0m\u001b[1;33m\u001b[0m\u001b[0m\n",
      "\u001b[1;32m~\\miniconda3\\lib\\site-packages\\transformers\\models\\bert\\modeling_bert.py\u001b[0m in \u001b[0;36mforward\u001b[1;34m(self, input_ids, attention_mask, token_type_ids, position_ids, head_mask, inputs_embeds, labels, output_attentions, output_hidden_states, return_dict)\u001b[0m\n\u001b[0;32m   1495\u001b[0m             \u001b[0moutput_attentions\u001b[0m\u001b[1;33m=\u001b[0m\u001b[0moutput_attentions\u001b[0m\u001b[1;33m,\u001b[0m\u001b[1;33m\u001b[0m\u001b[1;33m\u001b[0m\u001b[0m\n\u001b[0;32m   1496\u001b[0m             \u001b[0moutput_hidden_states\u001b[0m\u001b[1;33m=\u001b[0m\u001b[0moutput_hidden_states\u001b[0m\u001b[1;33m,\u001b[0m\u001b[1;33m\u001b[0m\u001b[1;33m\u001b[0m\u001b[0m\n\u001b[1;32m-> 1497\u001b[1;33m             \u001b[0mreturn_dict\u001b[0m\u001b[1;33m=\u001b[0m\u001b[0mreturn_dict\u001b[0m\u001b[1;33m,\u001b[0m\u001b[1;33m\u001b[0m\u001b[1;33m\u001b[0m\u001b[0m\n\u001b[0m\u001b[0;32m   1498\u001b[0m         )\n\u001b[0;32m   1499\u001b[0m \u001b[1;33m\u001b[0m\u001b[0m\n",
      "\u001b[1;32m~\\miniconda3\\lib\\site-packages\\torch\\nn\\modules\\module.py\u001b[0m in \u001b[0;36m_call_impl\u001b[1;34m(self, *input, **kwargs)\u001b[0m\n\u001b[0;32m    725\u001b[0m             \u001b[0mresult\u001b[0m \u001b[1;33m=\u001b[0m \u001b[0mself\u001b[0m\u001b[1;33m.\u001b[0m\u001b[0m_slow_forward\u001b[0m\u001b[1;33m(\u001b[0m\u001b[1;33m*\u001b[0m\u001b[0minput\u001b[0m\u001b[1;33m,\u001b[0m \u001b[1;33m**\u001b[0m\u001b[0mkwargs\u001b[0m\u001b[1;33m)\u001b[0m\u001b[1;33m\u001b[0m\u001b[1;33m\u001b[0m\u001b[0m\n\u001b[0;32m    726\u001b[0m         \u001b[1;32melse\u001b[0m\u001b[1;33m:\u001b[0m\u001b[1;33m\u001b[0m\u001b[1;33m\u001b[0m\u001b[0m\n\u001b[1;32m--> 727\u001b[1;33m             \u001b[0mresult\u001b[0m \u001b[1;33m=\u001b[0m \u001b[0mself\u001b[0m\u001b[1;33m.\u001b[0m\u001b[0mforward\u001b[0m\u001b[1;33m(\u001b[0m\u001b[1;33m*\u001b[0m\u001b[0minput\u001b[0m\u001b[1;33m,\u001b[0m \u001b[1;33m**\u001b[0m\u001b[0mkwargs\u001b[0m\u001b[1;33m)\u001b[0m\u001b[1;33m\u001b[0m\u001b[1;33m\u001b[0m\u001b[0m\n\u001b[0m\u001b[0;32m    728\u001b[0m         for hook in itertools.chain(\n\u001b[0;32m    729\u001b[0m                 \u001b[0m_global_forward_hooks\u001b[0m\u001b[1;33m.\u001b[0m\u001b[0mvalues\u001b[0m\u001b[1;33m(\u001b[0m\u001b[1;33m)\u001b[0m\u001b[1;33m,\u001b[0m\u001b[1;33m\u001b[0m\u001b[1;33m\u001b[0m\u001b[0m\n",
      "\u001b[1;32m~\\miniconda3\\lib\\site-packages\\transformers\\models\\bert\\modeling_bert.py\u001b[0m in \u001b[0;36mforward\u001b[1;34m(self, input_ids, attention_mask, token_type_ids, position_ids, head_mask, inputs_embeds, encoder_hidden_states, encoder_attention_mask, past_key_values, use_cache, output_attentions, output_hidden_states, return_dict)\u001b[0m\n\u001b[0;32m    954\u001b[0m             \u001b[0mtoken_type_ids\u001b[0m\u001b[1;33m=\u001b[0m\u001b[0mtoken_type_ids\u001b[0m\u001b[1;33m,\u001b[0m\u001b[1;33m\u001b[0m\u001b[1;33m\u001b[0m\u001b[0m\n\u001b[0;32m    955\u001b[0m             \u001b[0minputs_embeds\u001b[0m\u001b[1;33m=\u001b[0m\u001b[0minputs_embeds\u001b[0m\u001b[1;33m,\u001b[0m\u001b[1;33m\u001b[0m\u001b[1;33m\u001b[0m\u001b[0m\n\u001b[1;32m--> 956\u001b[1;33m             \u001b[0mpast_key_values_length\u001b[0m\u001b[1;33m=\u001b[0m\u001b[0mpast_key_values_length\u001b[0m\u001b[1;33m,\u001b[0m\u001b[1;33m\u001b[0m\u001b[1;33m\u001b[0m\u001b[0m\n\u001b[0m\u001b[0;32m    957\u001b[0m         )\n\u001b[0;32m    958\u001b[0m         encoder_outputs = self.encoder(\n",
      "\u001b[1;32m~\\miniconda3\\lib\\site-packages\\torch\\nn\\modules\\module.py\u001b[0m in \u001b[0;36m_call_impl\u001b[1;34m(self, *input, **kwargs)\u001b[0m\n\u001b[0;32m    725\u001b[0m             \u001b[0mresult\u001b[0m \u001b[1;33m=\u001b[0m \u001b[0mself\u001b[0m\u001b[1;33m.\u001b[0m\u001b[0m_slow_forward\u001b[0m\u001b[1;33m(\u001b[0m\u001b[1;33m*\u001b[0m\u001b[0minput\u001b[0m\u001b[1;33m,\u001b[0m \u001b[1;33m**\u001b[0m\u001b[0mkwargs\u001b[0m\u001b[1;33m)\u001b[0m\u001b[1;33m\u001b[0m\u001b[1;33m\u001b[0m\u001b[0m\n\u001b[0;32m    726\u001b[0m         \u001b[1;32melse\u001b[0m\u001b[1;33m:\u001b[0m\u001b[1;33m\u001b[0m\u001b[1;33m\u001b[0m\u001b[0m\n\u001b[1;32m--> 727\u001b[1;33m             \u001b[0mresult\u001b[0m \u001b[1;33m=\u001b[0m \u001b[0mself\u001b[0m\u001b[1;33m.\u001b[0m\u001b[0mforward\u001b[0m\u001b[1;33m(\u001b[0m\u001b[1;33m*\u001b[0m\u001b[0minput\u001b[0m\u001b[1;33m,\u001b[0m \u001b[1;33m**\u001b[0m\u001b[0mkwargs\u001b[0m\u001b[1;33m)\u001b[0m\u001b[1;33m\u001b[0m\u001b[1;33m\u001b[0m\u001b[0m\n\u001b[0m\u001b[0;32m    728\u001b[0m         for hook in itertools.chain(\n\u001b[0;32m    729\u001b[0m                 \u001b[0m_global_forward_hooks\u001b[0m\u001b[1;33m.\u001b[0m\u001b[0mvalues\u001b[0m\u001b[1;33m(\u001b[0m\u001b[1;33m)\u001b[0m\u001b[1;33m,\u001b[0m\u001b[1;33m\u001b[0m\u001b[1;33m\u001b[0m\u001b[0m\n",
      "\u001b[1;32m~\\miniconda3\\lib\\site-packages\\transformers\\models\\bert\\modeling_bert.py\u001b[0m in \u001b[0;36mforward\u001b[1;34m(self, input_ids, token_type_ids, position_ids, inputs_embeds, past_key_values_length)\u001b[0m\n\u001b[0;32m    204\u001b[0m         \u001b[1;32mif\u001b[0m \u001b[0mself\u001b[0m\u001b[1;33m.\u001b[0m\u001b[0mposition_embedding_type\u001b[0m \u001b[1;33m==\u001b[0m \u001b[1;34m\"absolute\"\u001b[0m\u001b[1;33m:\u001b[0m\u001b[1;33m\u001b[0m\u001b[1;33m\u001b[0m\u001b[0m\n\u001b[0;32m    205\u001b[0m             \u001b[0mposition_embeddings\u001b[0m \u001b[1;33m=\u001b[0m \u001b[0mself\u001b[0m\u001b[1;33m.\u001b[0m\u001b[0mposition_embeddings\u001b[0m\u001b[1;33m(\u001b[0m\u001b[0mposition_ids\u001b[0m\u001b[1;33m)\u001b[0m\u001b[1;33m\u001b[0m\u001b[1;33m\u001b[0m\u001b[0m\n\u001b[1;32m--> 206\u001b[1;33m             \u001b[0membeddings\u001b[0m \u001b[1;33m+=\u001b[0m \u001b[0mposition_embeddings\u001b[0m\u001b[1;33m\u001b[0m\u001b[1;33m\u001b[0m\u001b[0m\n\u001b[0m\u001b[0;32m    207\u001b[0m         \u001b[0membeddings\u001b[0m \u001b[1;33m=\u001b[0m \u001b[0mself\u001b[0m\u001b[1;33m.\u001b[0m\u001b[0mLayerNorm\u001b[0m\u001b[1;33m(\u001b[0m\u001b[0membeddings\u001b[0m\u001b[1;33m)\u001b[0m\u001b[1;33m\u001b[0m\u001b[1;33m\u001b[0m\u001b[0m\n\u001b[0;32m    208\u001b[0m         \u001b[0membeddings\u001b[0m \u001b[1;33m=\u001b[0m \u001b[0mself\u001b[0m\u001b[1;33m.\u001b[0m\u001b[0mdropout\u001b[0m\u001b[1;33m(\u001b[0m\u001b[0membeddings\u001b[0m\u001b[1;33m)\u001b[0m\u001b[1;33m\u001b[0m\u001b[1;33m\u001b[0m\u001b[0m\n",
      "\u001b[1;31mRuntimeError\u001b[0m: The size of tensor a (974) must match the size of tensor b (512) at non-singleton dimension 1"
     ]
    }
   ],
   "source": [
    "mail_weiterleitung(service)"
   ]
  },
  {
   "cell_type": "code",
   "execution_count": null,
   "metadata": {},
   "outputs": [],
   "source": []
  }
 ],
 "metadata": {
  "deepnote_execution_queue": [],
  "deepnote_notebook_id": "0b5984aa-1d6b-4789-80b1-0478f86a1999",
  "kernelspec": {
   "display_name": "Python 3",
   "language": "python",
   "name": "python3"
  },
  "language_info": {
   "codemirror_mode": {
    "name": "ipython",
    "version": 3
   },
   "file_extension": ".py",
   "mimetype": "text/x-python",
   "name": "python",
   "nbconvert_exporter": "python",
   "pygments_lexer": "ipython3",
   "version": "3.7.9"
  }
 },
 "nbformat": 4,
 "nbformat_minor": 4
}
