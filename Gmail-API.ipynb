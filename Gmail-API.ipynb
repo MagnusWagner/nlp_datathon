{
 "cells": [
  {
   "cell_type": "markdown",
   "metadata": {
    "cell_id": "00000-b19b823f-72ab-46d8-a6e6-133ed4df74b6",
    "deepnote_cell_type": "markdown",
    "tags": []
   },
   "source": [
    "## Example Usage of the GMail Python API\n",
    "\n",
    "This Notebook shows the basic usage of the GMail API\n",
    "\n",
    "1. Load E-Mails from the server\n",
    "\n",
    "2. Send E-Mails with the server\n",
    "\n",
    "In order to be able to use the API you need a valid token as a .pickle file. In the first initialization of the GMail service you need to pass the path to this token.pickle file. Change the parameter below to your file to rerun the examples. \n",
    "\n",
    "\n",
    "For furhter information on how to send attachments, ... please consult the Documentation: \n",
    "\n",
    "https://googleapis.github.io/google-api-python-client/docs/epy/index.html\n",
    "\n",
    "and the Guide: \n",
    "\n",
    "https://developers.google.com/gmail/api/quickstart/python"
   ]
  },
  {
   "cell_type": "code",
   "execution_count": null,
   "metadata": {
    "cell_id": "00001-e3986109-1398-4025-b887-c22061c95deb",
    "deepnote_cell_type": "code",
    "deepnote_to_be_reexecuted": false,
    "execution_millis": 518,
    "execution_start": 1610662132157,
    "source_hash": "ede19e4c",
    "tags": []
   },
   "outputs": [],
   "source": [
    "from googleapiclient.discovery import build, Resource\n",
    "from email.mime.text import MIMEText\n",
    "import base64\n",
    "import pickle\n",
    "import os\n",
    "from typing import Dict\n",
    "import email"
   ]
  },
  {
   "cell_type": "markdown",
   "metadata": {
    "cell_id": "00003-475b06d0-4084-4e83-b410-ac8967e9f930",
    "deepnote_cell_type": "markdown",
    "tags": []
   },
   "source": [
    "### Basic Functions"
   ]
  },
  {
   "cell_type": "code",
   "execution_count": null,
   "metadata": {
    "cell_id": "00002-d535a8ac-208e-484d-9f9f-635072e87cf7",
    "deepnote_cell_type": "code",
    "deepnote_to_be_reexecuted": false,
    "execution_millis": 2,
    "execution_start": 1610662132680,
    "source_hash": "d5049c03",
    "tags": []
   },
   "outputs": [],
   "source": [
    "def load_service(token_path:str):\n",
    "    \"\"\" Load the service from the specifies token file\n",
    "\n",
    "    Args:\n",
    "        token_path (str): Authorized Gmail API service instance.\n",
    "    \"\"\"\n",
    "    if os.path.exists(token_path):\n",
    "        with open(token_path, 'rb') as token:\n",
    "            creds = pickle.load(token)\n",
    "            service = build('gmail', 'v1', credentials=creds)\n",
    "            return service\n",
    "\n",
    "    else: \n",
    "        print(\"Credentials not found\")\n",
    "        return None"
   ]
  },
  {
   "cell_type": "code",
   "execution_count": null,
   "metadata": {
    "cell_id": "00003-c6e0ed72-b921-4924-bf00-2e8aca363fb2",
    "deepnote_cell_type": "code",
    "deepnote_to_be_reexecuted": false,
    "execution_millis": 2,
    "execution_start": 1610662132685,
    "source_hash": "1ae55261",
    "tags": []
   },
   "outputs": [],
   "source": [
    "def send_message(service:Resource, user_id:str, message:Dict[str,str]):\n",
    "    \"\"\"Send an email message.\n",
    "\n",
    "    Args:\n",
    "        service (Resource): Authorized Gmail API service instance.\n",
    "        user_id (str): User's email address. The special value \"me\" can be used to indicate the authenticated user.\n",
    "        message (Dict[str,str]): Message to be sent.\n",
    "    \"\"\"\n",
    "    try:\n",
    "        message = (service.users().messages().send(userId=user_id, body=message)\n",
    "                  .execute())\n",
    "        print('Message Id: %s' % message['id'])\n",
    "    except Exception as e:\n",
    "        print('An error occurred: %s' % e)"
   ]
  },
  {
   "cell_type": "code",
   "execution_count": null,
   "metadata": {
    "cell_id": "00004-5aaf8171-2f89-430a-8000-2d4a2b4506cf",
    "deepnote_cell_type": "code",
    "deepnote_to_be_reexecuted": false,
    "execution_millis": 3,
    "execution_start": 1610662132689,
    "source_hash": "3f001b3c",
    "tags": []
   },
   "outputs": [],
   "source": [
    "def create_message(sender:str, to:str, subject:str, message_text:str) -> Dict[str,str]:\n",
    "  \"\"\"Create a message for an email.\n",
    "\n",
    "  Args:\n",
    "    sender (str): Email address of the sender.\n",
    "    to (str): Email address of the receiver.\n",
    "    subject (str): The subject of the email message.\n",
    "    message_text (str): The text of the email message.\n",
    "\n",
    "  Returns:\n",
    "    Dict[str,str]: An object containing a base64url encoded email object.\n",
    "  \"\"\"\n",
    "  message = MIMEText(message_text, \"html\")\n",
    "  message['to'] = to\n",
    "  message['from'] = sender\n",
    "  message['subject'] = subject\n",
    "  encoded_message = base64.urlsafe_b64encode(message.as_bytes())\n",
    "  return {'raw': encoded_message.decode()}\n"
   ]
  },
  {
   "cell_type": "code",
   "execution_count": null,
   "metadata": {
    "cell_id": "00006-0b7c2624-890e-423c-9035-3192cbf878e5",
    "deepnote_cell_type": "code",
    "deepnote_to_be_reexecuted": false,
    "execution_millis": 3,
    "execution_start": 1610662132696,
    "source_hash": "6ee21093",
    "tags": []
   },
   "outputs": [],
   "source": [
    "def recieve_unread_messages(service:Resource):\n",
    "    \"\"\" Recieve all unread messages and print them\n",
    "\n",
    "        Args:\n",
    "        service (Resource): Authorized Gmail API service instance.\n",
    "\n",
    "    \"\"\"\n",
    "    messages = []\n",
    "    # request a list of all the messages \n",
    "    result = service.users().messages().list(userId='me').execute() \n",
    "  \n",
    "    # iterate through all the messages \n",
    "    for msg in result.get('messages') : \n",
    "        # Get the message from its id   \n",
    "        # Use try-except to avoid any Errors \n",
    "        message = service.users().messages().get(userId=\"me\", id=msg[\"id\"],\n",
    "                                             format='raw').execute()\n",
    "                                             \n",
    "        if \"UNREAD\" in message[\"labelIds\"]:\n",
    "            try: \n",
    "                msg_str = base64.urlsafe_b64decode(message['raw'].encode(\"utf-8\")).decode(\"utf-8\")\n",
    "                mime_msg = email.message_from_string(msg_str)\n",
    "\n",
    "                messages.append(mime_msg)\n",
    "    \n",
    "            except: \n",
    "                print(\"error\")\n",
    "                pass\n",
    "    return messages"
   ]
  },
  {
   "cell_type": "code",
   "execution_count": null,
   "metadata": {
    "cell_id": "00007-d59d6ff8-27b4-4ab3-989f-aa1e9c162fd9",
    "deepnote_cell_type": "code",
    "deepnote_to_be_reexecuted": false,
    "execution_millis": 2,
    "execution_start": 1610662132701,
    "source_hash": "c911aae4",
    "tags": []
   },
   "outputs": [],
   "source": [
    "def print_message(message):\n",
    "    \"\"\" Print the Content of a Message\n",
    "\n",
    "    Args:\n",
    "        message (email): The email encoded message\n",
    "    \"\"\"\n",
    "\n",
    "    if message.is_multipart():\n",
    "        for payload in message.get_payload():\n",
    "            print(payload.get_payload())\n",
    "    else:\n",
    "        print(message.get_payload())"
   ]
  },
  {
   "cell_type": "markdown",
   "metadata": {
    "cell_id": "00009-e6e50990-cb43-4d10-9346-7fea879c52cf",
    "deepnote_cell_type": "markdown",
    "tags": []
   },
   "source": [
    "### Usage of the function"
   ]
  },
  {
   "cell_type": "code",
   "execution_count": null,
   "metadata": {
    "cell_id": "00009-5e394748-a6d4-40a9-bd0c-69f785319bc9",
    "deepnote_cell_type": "code",
    "deepnote_to_be_reexecuted": false,
    "execution_millis": 0,
    "execution_start": 1610662132748,
    "source_hash": "aa3c9226",
    "tags": []
   },
   "outputs": [],
   "source": [
    "token_path = \"token.pickle\""
   ]
  },
  {
   "cell_type": "code",
   "execution_count": null,
   "metadata": {
    "cell_id": "00009-35f0d5f4-54cd-4922-88f0-e4e894e8c259",
    "deepnote_cell_type": "code",
    "deepnote_to_be_reexecuted": false,
    "execution_millis": 172,
    "execution_start": 1610662132749,
    "source_hash": "2a1700ac",
    "tags": []
   },
   "outputs": [],
   "source": [
    "service = load_service(token_path)"
   ]
  },
  {
   "cell_type": "code",
   "execution_count": null,
   "metadata": {
    "cell_id": "00010-6ee71db3-bb96-4e99-8d23-4ea09249f6a9",
    "deepnote_cell_type": "code",
    "deepnote_to_be_reexecuted": false,
    "execution_millis": 0,
    "execution_start": 1610662132968,
    "source_hash": "a1dab781",
    "tags": []
   },
   "outputs": [],
   "source": [
    "message = create_message(\"datathon@lumos-consulting.at\", \"datathon@lumos-consulting.at\", \"Test_0\", \"Das ist der erste Test\")"
   ]
  },
  {
   "cell_type": "code",
   "execution_count": null,
   "metadata": {
    "cell_id": "00011-104e7ccc-a617-45cd-954f-52520c6c8bac",
    "deepnote_cell_type": "code",
    "deepnote_to_be_reexecuted": false,
    "execution_millis": 291,
    "execution_start": 1610662132969,
    "source_hash": "eb285e2",
    "tags": []
   },
   "outputs": [
    {
     "name": "stdout",
     "output_type": "stream",
     "text": [
      "Message Id: 17702f1bcdd7e9b3\n"
     ]
    }
   ],
   "source": [
    "send_message(service, \"me\", message)"
   ]
  },
  {
   "cell_type": "code",
   "execution_count": null,
   "metadata": {
    "cell_id": "00012-bc899e07-6643-41f7-8eec-a8a0fffd0583",
    "deepnote_cell_type": "code",
    "deepnote_to_be_reexecuted": false,
    "execution_millis": 760,
    "execution_start": 1610662133266,
    "source_hash": "7dea2e23",
    "tags": []
   },
   "outputs": [],
   "source": [
    "messages = recieve_unread_messages(service)"
   ]
  },
  {
   "cell_type": "code",
   "execution_count": null,
   "metadata": {
    "cell_id": "00018-b23cf515-1704-4ca3-9211-e63a583509fa",
    "deepnote_cell_type": "code",
    "deepnote_to_be_reexecuted": false,
    "execution_millis": 2,
    "execution_start": 1610662134031,
    "source_hash": "258f760",
    "tags": []
   },
   "outputs": [
    {
     "name": "stdout",
     "output_type": "stream",
     "text": [
      "New Message!\n",
      "Das ist der erste Test\n",
      "\n",
      "New Message!\n",
      "Das ist der erste Test\n",
      "\n"
     ]
    }
   ],
   "source": [
    "for message in messages: \n",
    "    print(\"New Message!\")\n",
    "    print_message(message)\n",
    "    print()\n"
   ]
  },
  {
   "cell_type": "code",
   "execution_count": null,
   "metadata": {
    "cell_id": "00016-dfa6e8de-5983-4328-b441-49aa657b1b2d",
    "deepnote_cell_type": "code",
    "deepnote_to_be_reexecuted": false,
    "execution_millis": 1,
    "execution_start": 1610662134037,
    "source_hash": "b623e53d",
    "tags": []
   },
   "outputs": [],
   "source": []
  }
 ],
 "metadata": {
  "deepnote_execution_queue": [],
  "deepnote_notebook_id": "0b5984aa-1d6b-4789-80b1-0478f86a1999",
  "kernelspec": {
   "display_name": "",
   "name": ""
  },
  "language_info": {
   "name": ""
  }
 },
 "nbformat": 4,
 "nbformat_minor": 4
}
