{
 "cells": [
  {
   "cell_type": "markdown",
   "metadata": {
    "cell_id": "00000-b19b823f-72ab-46d8-a6e6-133ed4df74b6",
    "deepnote_cell_type": "markdown",
    "tags": []
   },
   "source": [
    "## Example Usage of the GMail Python API\n",
    "\n",
    "This Notebook shows the basic usage of the GMail API\n",
    "\n",
    "1. Load E-Mails from the server\n",
    "\n",
    "2. Send E-Mails with the server\n",
    "\n",
    "In order to be able to use the API you need a valid token as a .pickle file. In the first initialization of the GMail service you need to pass the path to this token.pickle file. Change the parameter below to your file to rerun the examples. \n",
    "\n",
    "\n",
    "For furhter information on how to send attachments, ... please consult the Documentation: \n",
    "\n",
    "https://googleapis.github.io/google-api-python-client/docs/epy/index.html\n",
    "\n",
    "and the Guide: \n",
    "\n",
    "https://developers.google.com/gmail/api/quickstart/python"
   ]
  },
  {
   "cell_type": "code",
   "execution_count": 1,
   "metadata": {
    "pycharm": {
     "is_executing": false
    }
   },
   "outputs": [
    {
     "name": "stdout",
     "output_type": "stream",
     "text": [
      "Requirement already satisfied: google-api-python-client in c:\\users\\tom\\anaconda3\\envs\\nlp_datathon2\\lib\\site-packages (1.12.8)\n",
      "Requirement already satisfied: google-auth-httplib2 in c:\\users\\tom\\anaconda3\\envs\\nlp_datathon2\\lib\\site-packages (0.0.4)\n",
      "Requirement already satisfied: google-auth-oauthlib in c:\\users\\tom\\anaconda3\\envs\\nlp_datathon2\\lib\\site-packages (0.4.2)\n",
      "Requirement already satisfied: uritemplate<4dev,>=3.0.0 in c:\\users\\tom\\anaconda3\\envs\\nlp_datathon2\\lib\\site-packages (from google-api-python-client) (3.0.1)\n",
      "Requirement already satisfied: google-auth>=1.16.0 in c:\\users\\tom\\anaconda3\\envs\\nlp_datathon2\\lib\\site-packages (from google-api-python-client) (1.25.0)\n",
      "Requirement already satisfied: google-api-core<2dev,>=1.21.0 in c:\\users\\tom\\anaconda3\\envs\\nlp_datathon2\\lib\\site-packages (from google-api-python-client) (1.25.1)\n",
      "Requirement already satisfied: six<2dev,>=1.13.0 in c:\\users\\tom\\anaconda3\\envs\\nlp_datathon2\\lib\\site-packages (from google-api-python-client) (1.15.0)\n",
      "Requirement already satisfied: httplib2<1dev,>=0.15.0 in c:\\users\\tom\\anaconda3\\envs\\nlp_datathon2\\lib\\site-packages (from google-api-python-client) (0.18.1)\n",
      "Requirement already satisfied: protobuf>=3.12.0 in c:\\users\\tom\\anaconda3\\envs\\nlp_datathon2\\lib\\site-packages (from google-api-core<2dev,>=1.21.0->google-api-python-client) (3.14.0)\n",
      "Requirement already satisfied: googleapis-common-protos<2.0dev,>=1.6.0 in c:\\users\\tom\\anaconda3\\envs\\nlp_datathon2\\lib\\site-packages (from google-api-core<2dev,>=1.21.0->google-api-python-client) (1.52.0)\n",
      "Requirement already satisfied: pytz in c:\\users\\tom\\anaconda3\\envs\\nlp_datathon2\\lib\\site-packages (from google-api-core<2dev,>=1.21.0->google-api-python-client) (2021.1)\n",
      "Requirement already satisfied: requests<3.0.0dev,>=2.18.0 in c:\\users\\tom\\anaconda3\\envs\\nlp_datathon2\\lib\\site-packages (from google-api-core<2dev,>=1.21.0->google-api-python-client) (2.25.1)\n",
      "Requirement already satisfied: setuptools>=40.3.0 in c:\\users\\tom\\anaconda3\\envs\\nlp_datathon2\\lib\\site-packages (from google-api-core<2dev,>=1.21.0->google-api-python-client) (52.0.0.post20210125)\n",
      "Requirement already satisfied: cachetools<5.0,>=2.0.0 in c:\\users\\tom\\anaconda3\\envs\\nlp_datathon2\\lib\\site-packages (from google-auth>=1.16.0->google-api-python-client) (4.2.1)\n",
      "Requirement already satisfied: rsa<5,>=3.1.4 in c:\\users\\tom\\anaconda3\\envs\\nlp_datathon2\\lib\\site-packages (from google-auth>=1.16.0->google-api-python-client) (4.7)\n",
      "Requirement already satisfied: pyasn1-modules>=0.2.1 in c:\\users\\tom\\anaconda3\\envs\\nlp_datathon2\\lib\\site-packages (from google-auth>=1.16.0->google-api-python-client) (0.2.8)\n",
      "Requirement already satisfied: pyasn1<0.5.0,>=0.4.6 in c:\\users\\tom\\anaconda3\\envs\\nlp_datathon2\\lib\\site-packages (from pyasn1-modules>=0.2.1->google-auth>=1.16.0->google-api-python-client) (0.4.8)\n",
      "Requirement already satisfied: certifi>=2017.4.17 in c:\\users\\tom\\anaconda3\\envs\\nlp_datathon2\\lib\\site-packages (from requests<3.0.0dev,>=2.18.0->google-api-core<2dev,>=1.21.0->google-api-python-client) (2020.12.5)\n",
      "Requirement already satisfied: chardet<5,>=3.0.2 in c:\\users\\tom\\anaconda3\\envs\\nlp_datathon2\\lib\\site-packages (from requests<3.0.0dev,>=2.18.0->google-api-core<2dev,>=1.21.0->google-api-python-client) (3.0.4)\n",
      "Requirement already satisfied: idna<3,>=2.5 in c:\\users\\tom\\anaconda3\\envs\\nlp_datathon2\\lib\\site-packages (from requests<3.0.0dev,>=2.18.0->google-api-core<2dev,>=1.21.0->google-api-python-client) (2.10)\n",
      "Requirement already satisfied: urllib3<1.27,>=1.21.1 in c:\\users\\tom\\anaconda3\\envs\\nlp_datathon2\\lib\\site-packages (from requests<3.0.0dev,>=2.18.0->google-api-core<2dev,>=1.21.0->google-api-python-client) (1.26.3)\n",
      "Requirement already satisfied: requests-oauthlib>=0.7.0 in c:\\users\\tom\\anaconda3\\envs\\nlp_datathon2\\lib\\site-packages (from google-auth-oauthlib) (1.3.0)\n",
      "Requirement already satisfied: oauthlib>=3.0.0 in c:\\users\\tom\\anaconda3\\envs\\nlp_datathon2\\lib\\site-packages (from requests-oauthlib>=0.7.0->google-auth-oauthlib) (3.1.0)\n"
     ]
    }
   ],
   "source": [
    "!pip install --upgrade google-api-python-client google-auth-httplib2 google-auth-oauthlib"
   ]
  },
  {
   "cell_type": "code",
   "execution_count": 2,
   "metadata": {
    "cell_id": "00001-e3986109-1398-4025-b887-c22061c95deb",
    "deepnote_cell_type": "code",
    "deepnote_to_be_reexecuted": false,
    "execution_millis": 518,
    "execution_start": 1610662132157,
    "pycharm": {
     "is_executing": false
    },
    "source_hash": "ede19e4c",
    "tags": []
   },
   "outputs": [],
   "source": [
    "from googleapiclient.discovery import build, Resource\n",
    "from email.mime.text import MIMEText\n",
    "from email.mime.multipart import MIMEMultipart\n",
    "import base64\n",
    "import pickle\n",
    "import os\n",
    "from typing import Dict\n",
    "import email\n",
    "import pandas as pd"
   ]
  },
  {
   "cell_type": "markdown",
   "metadata": {
    "cell_id": "00003-475b06d0-4084-4e83-b410-ac8967e9f930",
    "deepnote_cell_type": "markdown",
    "tags": []
   },
   "source": [
    "### Basic Functions"
   ]
  },
  {
   "cell_type": "code",
   "execution_count": 3,
   "metadata": {
    "cell_id": "00002-d535a8ac-208e-484d-9f9f-635072e87cf7",
    "deepnote_cell_type": "code",
    "deepnote_to_be_reexecuted": false,
    "execution_millis": 2,
    "execution_start": 1610662132680,
    "source_hash": "d5049c03",
    "tags": []
   },
   "outputs": [],
   "source": [
    "def load_service(token_path:str):\n",
    "    \"\"\" Load the service from the specifies token file\n",
    "\n",
    "    Args:\n",
    "        token_path (str): Authorized Gmail API service instance.\n",
    "    \"\"\"\n",
    "    if os.path.exists(token_path):\n",
    "        with open(token_path, 'rb') as token:\n",
    "            creds = pickle.load(token)\n",
    "            service = build('gmail', 'v1', credentials=creds)\n",
    "            return service\n",
    "\n",
    "    else: \n",
    "        print(\"Credentials not found\")\n",
    "        return None"
   ]
  },
  {
   "cell_type": "code",
   "execution_count": 4,
   "metadata": {
    "cell_id": "00003-c6e0ed72-b921-4924-bf00-2e8aca363fb2",
    "deepnote_cell_type": "code",
    "deepnote_to_be_reexecuted": false,
    "execution_millis": 2,
    "execution_start": 1610662132685,
    "source_hash": "1ae55261",
    "tags": []
   },
   "outputs": [],
   "source": [
    "def send_message(service:Resource, user_id:str, message:Dict[str,str]):\n",
    "    \"\"\"Send an email message.\n",
    "\n",
    "    Args:\n",
    "        service (Resource): Authorized Gmail API service instance.\n",
    "        user_id (str): User's email address. The special value \"me\" can be used to indicate the authenticated user.\n",
    "        message (Dict[str,str]): Message to be sent.\n",
    "    \"\"\"\n",
    "    try:\n",
    "        message = (service.users().messages().send(userId=user_id, body=message)\n",
    "                  .execute())\n",
    "        print('Message Id: %s' % message['id'])\n",
    "    except Exception as e:\n",
    "        print('An error occurred: %s' % e)"
   ]
  },
  {
   "cell_type": "code",
   "execution_count": 5,
   "metadata": {
    "cell_id": "00004-5aaf8171-2f89-430a-8000-2d4a2b4506cf",
    "deepnote_cell_type": "code",
    "deepnote_to_be_reexecuted": false,
    "execution_millis": 3,
    "execution_start": 1610662132689,
    "source_hash": "3f001b3c",
    "tags": []
   },
   "outputs": [],
   "source": [
    "def create_message(sender:str, to:str, subject:str, message_text:str) -> Dict[str,str]:\n",
    "  \"\"\"Create a message for an email.\n",
    "\n",
    "  Args:\n",
    "    sender (str): Email address of the sender.\n",
    "    to (str): Email address of the receiver.\n",
    "    subject (str): The subject of the email message.\n",
    "    message_text (str): The text of the email message.\n",
    "\n",
    "  Returns:\n",
    "    Dict[str,str]: An object containing a base64url encoded email object.\n",
    "  \"\"\"\n",
    "  message = MIMEMultipart() #MIMEText(message_text, \"html\", _charset=\"utf-8\")\n",
    "  #message.set_payload(message_text, charset=\"utf-8\")\n",
    "  message['to'] = to\n",
    "  message['from'] = sender\n",
    "  message['subject'] = subject\n",
    "  message.attach(MIMEText(message_text, _charset='utf-8'))\n",
    "\n",
    "  print(message)\n",
    "\n",
    "  encoded_message = base64.urlsafe_b64encode(message.as_bytes())\n",
    "  print(encoded_message)\n",
    "  print(encoded_message.decode())\n",
    "  return {'raw': encoded_message.decode()}\n"
   ]
  },
  {
   "cell_type": "code",
   "execution_count": 6,
   "metadata": {},
   "outputs": [
    {
     "name": "stdout",
     "output_type": "stream",
     "text": [
      "Content-Type: multipart/mixed; boundary=\"===============2922927868841235215==\"\n",
      "MIME-Version: 1.0\n",
      "to: thomas.n71@gmail.com\n",
      "from: datathon@lumos-consulting.at\n",
      "subject: Test_0\n",
      "\n",
      "--===============2922927868841235215==\n",
      "Content-Type: text/plain; charset=\"utf-8\"\n",
      "MIME-Version: 1.0\n",
      "Content-Transfer-Encoding: base64\n",
      "\n",
      "RGFzIGlzdCBkZXIgZXJzdGUgVGVzdMOk\n",
      "\n",
      "--===============2922927868841235215==--\n",
      "\n",
      "b'Q29udGVudC1UeXBlOiBtdWx0aXBhcnQvbWl4ZWQ7IGJvdW5kYXJ5PSI9PT09PT09PT09PT09PT0yOTIyOTI3ODY4ODQxMjM1MjE1PT0iCk1JTUUtVmVyc2lvbjogMS4wCnRvOiB0aG9tYXMubjcxQGdtYWlsLmNvbQpmcm9tOiBkYXRhdGhvbkBsdW1vcy1jb25zdWx0aW5nLmF0CnN1YmplY3Q6IFRlc3RfMAoKLS09PT09PT09PT09PT09PT0yOTIyOTI3ODY4ODQxMjM1MjE1PT0KQ29udGVudC1UeXBlOiB0ZXh0L3BsYWluOyBjaGFyc2V0PSJ1dGYtOCIKTUlNRS1WZXJzaW9uOiAxLjAKQ29udGVudC1UcmFuc2Zlci1FbmNvZGluZzogYmFzZTY0CgpSR0Z6SUdsemRDQmtaWElnWlhKemRHVWdWR1Z6ZE1PawoKLS09PT09PT09PT09PT09PT0yOTIyOTI3ODY4ODQxMjM1MjE1PT0tLQo='\n",
      "Q29udGVudC1UeXBlOiBtdWx0aXBhcnQvbWl4ZWQ7IGJvdW5kYXJ5PSI9PT09PT09PT09PT09PT0yOTIyOTI3ODY4ODQxMjM1MjE1PT0iCk1JTUUtVmVyc2lvbjogMS4wCnRvOiB0aG9tYXMubjcxQGdtYWlsLmNvbQpmcm9tOiBkYXRhdGhvbkBsdW1vcy1jb25zdWx0aW5nLmF0CnN1YmplY3Q6IFRlc3RfMAoKLS09PT09PT09PT09PT09PT0yOTIyOTI3ODY4ODQxMjM1MjE1PT0KQ29udGVudC1UeXBlOiB0ZXh0L3BsYWluOyBjaGFyc2V0PSJ1dGYtOCIKTUlNRS1WZXJzaW9uOiAxLjAKQ29udGVudC1UcmFuc2Zlci1FbmNvZGluZzogYmFzZTY0CgpSR0Z6SUdsemRDQmtaWElnWlhKemRHVWdWR1Z6ZE1PawoKLS09PT09PT09PT09PT09PT0yOTIyOTI3ODY4ODQxMjM1MjE1PT0tLQo=\n"
     ]
    }
   ],
   "source": [
    "message = create_message(\"datathon@lumos-consulting.at\", \"thomas.n71@gmail.com\", \"Test_0\", \"Das ist der erste Testä\")"
   ]
  },
  {
   "cell_type": "code",
   "execution_count": 7,
   "metadata": {
    "cell_id": "00006-0b7c2624-890e-423c-9035-3192cbf878e5",
    "deepnote_cell_type": "code",
    "deepnote_to_be_reexecuted": false,
    "execution_millis": 3,
    "execution_start": 1610662132696,
    "source_hash": "6ee21093",
    "tags": []
   },
   "outputs": [],
   "source": [
    "def receive_unread_messages(service:Resource):\n",
    "    \"\"\" Recieve all unread messages and print them\n",
    "\n",
    "        Args:\n",
    "        service (Resource): Authorized Gmail API service instance.\n",
    "\n",
    "    \"\"\"\n",
    "    messages = []\n",
    "    # request a list of all the messages \n",
    "    result = service.users().messages().list(userId='me').execute() \n",
    "  \n",
    "    # iterate through all the messages \n",
    "    for msg in result.get('messages') : \n",
    "        # Get the message from its id   \n",
    "        # Use try-except to avoid any Errors \n",
    "        message = service.users().messages().get(userId=\"me\", id=msg[\"id\"],\n",
    "                                             format='raw').execute()\n",
    "        \n",
    "        \n",
    "        if \"UNREAD\" in message[\"labelIds\"]:\n",
    "            try:\n",
    "                print(message[\"id\"])\n",
    "                msg_str = base64.urlsafe_b64decode(message['raw'].encode(\"utf-8\")).decode(\"utf-8\")\n",
    "                print(msg_str)\n",
    "                mime_msg = email.message_from_string(msg_str)\n",
    "                \n",
    "                messages.append((message[\"id\"],mime_msg))\n",
    "    \n",
    "            except: \n",
    "                print(\"error\")\n",
    "                pass\n",
    "    return messages"
   ]
  },
  {
   "cell_type": "code",
   "execution_count": 8,
   "metadata": {},
   "outputs": [],
   "source": [
    "def receive_all_messages(service:Resource):\n",
    "    \"\"\" Recieve all messages and print them\n",
    "\n",
    "        Args:\n",
    "        service (Resource): Authorized Gmail API service instance.\n",
    "\n",
    "    \"\"\"\n",
    "    messages = []\n",
    "    # request a list of all the messages \n",
    "    result = service.users().messages().list(userId='me').execute() \n",
    "  \n",
    "    # iterate through all the messages \n",
    "    for msg in result.get('messages') : \n",
    "        # Get the message from its id   \n",
    "        # Use try-except to avoid any Errors \n",
    "        message = service.users().messages().get(userId=\"me\", id=msg[\"id\"],\n",
    "                                             format='raw').execute()\n",
    "        \n",
    "        \n",
    "        \n",
    "        try:\n",
    "            print(message[\"id\"])\n",
    "            msg_str = base64.urlsafe_b64decode(message['raw'].encode(\"utf-8\")).decode(\"utf-8\")\n",
    "            print(msg_str)\n",
    "            mime_msg = email.message_from_string(msg_str)\n",
    "\n",
    "            messages.append(mime_msg)\n",
    "\n",
    "        except: \n",
    "            print(\"error\")\n",
    "            pass\n",
    "    return messages"
   ]
  },
  {
   "cell_type": "code",
   "execution_count": 9,
   "metadata": {},
   "outputs": [],
   "source": [
    "# print_message(message)"
   ]
  },
  {
   "cell_type": "code",
   "execution_count": 10,
   "metadata": {
    "cell_id": "00007-d59d6ff8-27b4-4ab3-989f-aa1e9c162fd9",
    "deepnote_cell_type": "code",
    "deepnote_to_be_reexecuted": false,
    "execution_millis": 2,
    "execution_start": 1610662132701,
    "source_hash": "c911aae4",
    "tags": []
   },
   "outputs": [],
   "source": [
    "\n",
    "def print_message(message):\n",
    "    \"\"\" Print the Content of a Message\n",
    "\n",
    "    Args:\n",
    "        message (email): The email encoded message\n",
    "    \"\"\"\n",
    "    i = 1\n",
    "    if message.is_multipart():\n",
    "        for payload in message.get_payload():\n",
    "            print(payload.get_payload(decode=True).decode(\"utf-8\"))\n",
    "            i+= 1\n",
    "            print(i)\n",
    "    else:\n",
    "        print(message.get_payload(decode=True).decode(\"utf-8\"))"
   ]
  },
  {
   "cell_type": "markdown",
   "metadata": {},
   "source": [
    "### Eigene Funktionen"
   ]
  },
  {
   "cell_type": "code",
   "execution_count": 11,
   "metadata": {},
   "outputs": [],
   "source": [
    "def markAsRead(service:Resource, message_id):\n",
    "    if type(message_id) is list:\n",
    "        for mid in message_id:\n",
    "            service.users().messages().modify(userId='me', id=mid, body={'removeLabelIds': ['UNREAD']}).execute()\n",
    "    else:\n",
    "        service.users().messages().modify(userId='me', id=message_id, body={'removeLabelIds': ['UNREAD']}).execute()\n",
    "    \n",
    "def deleteMail(service:Resource, message_id):\n",
    "    if type(message_id) is list:\n",
    "        for mid in message_id:\n",
    "            service.users().messages().delete(userId=\"me\", id=mid).execute()\n",
    "    else:\n",
    "        service.users().messages().delete(userId=\"me\", id=message_id).execute()"
   ]
  },
  {
   "cell_type": "code",
   "execution_count": 12,
   "metadata": {},
   "outputs": [],
   "source": [
    "# Nötig, wenn Nachrichten von Google reinkommen.\n",
    "# deleteMail(service,\"17767b037c45a4d3\")"
   ]
  },
  {
   "cell_type": "code",
   "execution_count": null,
   "metadata": {},
   "outputs": [],
   "source": []
  },
  {
   "cell_type": "markdown",
   "metadata": {
    "cell_id": "00009-e6e50990-cb43-4d10-9346-7fea879c52cf",
    "deepnote_cell_type": "markdown",
    "tags": []
   },
   "source": [
    "### Usage of the function"
   ]
  },
  {
   "cell_type": "code",
   "execution_count": 13,
   "metadata": {
    "cell_id": "00009-5e394748-a6d4-40a9-bd0c-69f785319bc9",
    "deepnote_cell_type": "code",
    "deepnote_to_be_reexecuted": false,
    "execution_millis": 0,
    "execution_start": 1610662132748,
    "source_hash": "aa3c9226",
    "tags": []
   },
   "outputs": [],
   "source": [
    "token_path = \"token.pickle\""
   ]
  },
  {
   "cell_type": "code",
   "execution_count": 14,
   "metadata": {
    "cell_id": "00009-35f0d5f4-54cd-4922-88f0-e4e894e8c259",
    "deepnote_cell_type": "code",
    "deepnote_to_be_reexecuted": false,
    "execution_millis": 172,
    "execution_start": 1610662132749,
    "source_hash": "2a1700ac",
    "tags": []
   },
   "outputs": [],
   "source": [
    "service = load_service(token_path)\n",
    "#messages = receive_all_messages(service)"
   ]
  },
  {
   "cell_type": "code",
   "execution_count": 15,
   "metadata": {
    "cell_id": "00010-6ee71db3-bb96-4e99-8d23-4ea09249f6a9",
    "deepnote_cell_type": "code",
    "deepnote_to_be_reexecuted": false,
    "execution_millis": 0,
    "execution_start": 1610662132968,
    "source_hash": "a1dab781",
    "tags": []
   },
   "outputs": [],
   "source": [
    "#message = create_message(\"datathon@lumos-consulting.at\", \"thomas.n71@gmail.com\", \"Test_0\", \"Das ist der erste Testä\")"
   ]
  },
  {
   "cell_type": "code",
   "execution_count": 16,
   "metadata": {
    "cell_id": "00011-104e7ccc-a617-45cd-954f-52520c6c8bac",
    "deepnote_cell_type": "code",
    "deepnote_to_be_reexecuted": false,
    "execution_millis": 291,
    "execution_start": 1610662132969,
    "source_hash": "eb285e2",
    "tags": []
   },
   "outputs": [],
   "source": [
    "#send_message(service, \"me\", message)"
   ]
  },
  {
   "cell_type": "code",
   "execution_count": 17,
   "metadata": {
    "cell_id": "00012-bc899e07-6643-41f7-8eec-a8a0fffd0583",
    "deepnote_cell_type": "code",
    "deepnote_to_be_reexecuted": false,
    "execution_millis": 760,
    "execution_start": 1610662133266,
    "source_hash": "7dea2e23",
    "tags": []
   },
   "outputs": [],
   "source": [
    "#messages = receive_all_messages(service) #receive_unread_messages(service)"
   ]
  },
  {
   "cell_type": "code",
   "execution_count": 18,
   "metadata": {
    "cell_id": "00018-b23cf515-1704-4ca3-9211-e63a583509fa",
    "deepnote_cell_type": "code",
    "deepnote_to_be_reexecuted": false,
    "execution_millis": 2,
    "execution_start": 1610662134031,
    "source_hash": "258f760",
    "tags": []
   },
   "outputs": [],
   "source": [
    "def get_text_from_message(message, onlyfirstpart=True):\n",
    "    \"\"\" Print the Content of a Message\n",
    "\n",
    "    Args:\n",
    "        message (email): The email encoded message\n",
    "    \"\"\"\n",
    "    retText=\"\"\n",
    "    try:\n",
    "        if message.is_multipart():\n",
    "\n",
    "            for payload in message.get_payload():\n",
    "                retText+=str(payload.get_payload(decode=True).decode(\"utf-8\"))\n",
    "                if onlyfirstpart:\n",
    "                    return retText\n",
    "                retText+=\"\\n\"\n",
    "        else:\n",
    "            retText+=str(message.get_payload(decode=True).decode(\"utf-8\"))\n",
    "    except:\n",
    "        message.get_payload(decode=True).decode(\"utf-8\")\n",
    "    return retText"
   ]
  },
  {
   "cell_type": "code",
   "execution_count": 19,
   "metadata": {
    "cell_id": "00016-dfa6e8de-5983-4328-b441-49aa657b1b2d",
    "deepnote_cell_type": "code",
    "deepnote_to_be_reexecuted": false,
    "execution_millis": 1,
    "execution_start": 1610662134037,
    "source_hash": "b623e53d",
    "tags": []
   },
   "outputs": [],
   "source": [
    "import numpy as np\n",
    "import torch\n",
    "from scipy.special import softmax\n",
    "from transformers import AutoModelForSequenceClassification, AutoTokenizer\n",
    "labellist=np.arange(1,7)\n",
    "PATH=\"C:\\\\Users\\\\Tom\\\\Google Drive\\\\data\\\\final_model\"\n",
    "recipient = \"thomas.n71@gmail.com\" # TODO CHANGE\n",
    "\n",
    "def predictAbteilung(text):\n",
    "    model = AutoModelForSequenceClassification.from_pretrained(PATH)\n",
    "    tokenizer = AutoTokenizer.from_pretrained(PATH)\n",
    "    labels = torch.tensor([1]).unsqueeze(0)\n",
    "    inputs = tokenizer(text, return_tensors=\"pt\", truncation=True)\n",
    "    prediction = model(**inputs, labels=labels)\n",
    "    logits=prediction.logits.detach().numpy()[0]\n",
    "    probabilities=softmax(logits)\n",
    "    print(probabilities)\n",
    "    return arg3max(probabilities)"
   ]
  },
  {
   "cell_type": "code",
   "execution_count": 20,
   "metadata": {},
   "outputs": [],
   "source": [
    "def arg3max(liste):\n",
    "    retList = [(0,0),(0,0),(0,0)]\n",
    "    print(liste)\n",
    "    for (count,value) in enumerate(liste):\n",
    "        if value > retList[0][1]:\n",
    "            if value > retList[1][1]:\n",
    "                if value > retList[2][1]:\n",
    "                    retList[0]=retList[1]\n",
    "                    retList[1]=retList[2]\n",
    "                    retList[2]=(count,value)\n",
    "                else:\n",
    "                    retList[0]=retList[1]\n",
    "                    retList[1]=(count,value)\n",
    "            else:\n",
    "                retList[0]=(count,value)\n",
    "    return retList\n",
    "        \n",
    "def mail_weiterleitung(service):\n",
    "    \n",
    "    messages = receive_unread_messages(service)\n",
    "\n",
    "    for mid,message in messages:\n",
    "        text=get_text_from_message(message)\n",
    "        print(100*\"*\")\n",
    "        print(text)\n",
    "        predictions = predictAbteilung(text)\n",
    "        abteilung1 = labellist[predictions[2][0]]\n",
    "        abteilung2 = labellist[predictions[1][0]]\n",
    "        abteilung3 = labellist[predictions[0][0]]\n",
    "        text+=\"\"\"\\n__________________________________________\\nDiese Mail ist mit {p1:.2f} % Wahrscheinlichkeit für Abteilung {a1} bestimmt.\\n\\nMit {p2:.2f} % Wahrscheinlichkeit könnte Sie für Abteilung {a2} und mit {p3:.2f} % Wahrscheinlichkeit für Abteilung {a3} bestimmt sein.\"\"\".format(p1=predictions[2][1]*100,p2=predictions[1][1]*100,p3=predictions[0][1]*100,a1=str(abteilung1),a2=str(abteilung2),a3=str(abteilung3))\n",
    "        if predictions[2][1] > 0.9:\n",
    "            betreff=\"Abteilung \"+str(abteilung1)+\":  \"+str(message[\"subject\"])\n",
    "        else:\n",
    "            betreff=\"Unklarheit bei Zuweisung: \"+str(message[\"subject\"])\n",
    "        wl_message = create_message(\"team4@lumos-consulting.at\", recipient, betreff, text)\n",
    "        send_message(service, \"me\", wl_message)\n",
    "        markAsRead(service,mid)"
   ]
  },
  {
   "cell_type": "code",
   "execution_count": null,
   "metadata": {},
   "outputs": [
    {
     "name": "stdout",
     "output_type": "stream",
     "text": [
      "1777451980dda622\n",
      "Delivered-To: team4@lumos-consulting.at\n",
      "Received: by 2002:a05:7000:13d3:0:0:0:0 with SMTP id v19csp2281053mal;\n",
      "        Fri, 5 Feb 2021 14:30:40 -0800 (PST)\n",
      "X-Received: by 2002:a62:6d06:0:b029:1d0:f7ca:59d0 with SMTP id i6-20020a626d060000b02901d0f7ca59d0mr6780878pfc.75.1612564240463;\n",
      "        Fri, 05 Feb 2021 14:30:40 -0800 (PST)\n",
      "ARC-Seal: i=1; a=rsa-sha256; t=1612564240; cv=none;\n",
      "        d=google.com; s=arc-20160816;\n",
      "        b=qeV1ijXRYaHAg6iqpzBmO9HUZx+J6ofOvvk/HkdBJxLiUkfAlhOdnVXs0YUEboyUKk\n",
      "         gI5W5IgScob5GQAPfeQp4cN9G9luOKKbHIZlSK2w8qVYoyXRtk+lBt+0TLuW3o846Tnb\n",
      "         f4gkxKDYxGsaYOfZWJWc7W8O9oGCz9QTNpmvG+AWvnKUI/D7sebGKl1qPXCAT00fhxaK\n",
      "         BnjlsiwMwwfkj89RhbeZe+7j4NP5R93i8pIF4bCrVK9KHSmSWs6iCj01kF1+/Cbj6IF1\n",
      "         /za6vidi0duUbQbWFEPQ0Yz4+yb5Mjc+emO/Jx8IaJ4sOiz6KQhnxWVwouYVM5YBtA06\n",
      "         Wsyg==\n",
      "ARC-Message-Signature: i=1; a=rsa-sha256; c=relaxed/relaxed; d=google.com; s=arc-20160816;\n",
      "        h=to:subject:message-id:date:from:mime-version:dkim-signature;\n",
      "        bh=Fn4FGksh3QRoRFmKDUP4RSRsYan1Wmf+Cv7mBAKG3X0=;\n",
      "        b=ZHnkr0h0mCpiBz7r3gQP68hREoAUVp7hs5KgOTb2uJCN4KiJ+YHkaQYW6oOmAv0Bt/\n",
      "         fknzorsUmFfAjnnFtZem6kY+Ozu4nivbQYxq+67wMtJQmnpvNV8FMEmkWUpPjxleZ+F5\n",
      "         C01qVtnevs1/w6PcJuHcGR5rciURnGolD/1BjIxBwHyDXNFCdiSBZ7RYwCthVDywSnSR\n",
      "         7BNDEro1VzOzif7sOe0PYXzDSd2GCxeJO1CHT6yBQck5wIPydMre8f0uCZumEgICzbIg\n",
      "         OWw/bNiWMTwMITj7VNK0b9PQcDBfZxHw+CtULa7y97bO0YkPxuMHdbyhRPFXH96Fg5xj\n",
      "         iS+g==\n",
      "ARC-Authentication-Results: i=1; mx.google.com;\n",
      "       dkim=pass header.i=@gmail.com header.s=20161025 header.b=mjEDlRYe;\n",
      "       spf=pass (google.com: domain of thomas.n71@gmail.com designates 209.85.220.41 as permitted sender) smtp.mailfrom=thomas.n71@gmail.com;\n",
      "       dmarc=pass (p=NONE sp=QUARANTINE dis=NONE) header.from=gmail.com\n",
      "Return-Path: <thomas.n71@gmail.com>\n",
      "Received: from mail-sor-f41.google.com (mail-sor-f41.google.com. [209.85.220.41])\n",
      "        by mx.google.com with SMTPS id u11sor6176117pgh.81.2021.02.05.14.30.40\n",
      "        for <team4@lumos-consulting.at>\n",
      "        (Google Transport Security);\n",
      "        Fri, 05 Feb 2021 14:30:40 -0800 (PST)\n",
      "Received-SPF: pass (google.com: domain of thomas.n71@gmail.com designates 209.85.220.41 as permitted sender) client-ip=209.85.220.41;\n",
      "Authentication-Results: mx.google.com;\n",
      "       dkim=pass header.i=@gmail.com header.s=20161025 header.b=mjEDlRYe;\n",
      "       spf=pass (google.com: domain of thomas.n71@gmail.com designates 209.85.220.41 as permitted sender) smtp.mailfrom=thomas.n71@gmail.com;\n",
      "       dmarc=pass (p=NONE sp=QUARANTINE dis=NONE) header.from=gmail.com\n",
      "DKIM-Signature: v=1; a=rsa-sha256; c=relaxed/relaxed;\n",
      "        d=gmail.com; s=20161025;\n",
      "        h=mime-version:from:date:message-id:subject:to;\n",
      "        bh=Fn4FGksh3QRoRFmKDUP4RSRsYan1Wmf+Cv7mBAKG3X0=;\n",
      "        b=mjEDlRYe7JBi/5FvcThEYbyfri2MxGbKNZX7ARGjwEwBNrYKdf24lGpxGNysg6MpoH\n",
      "         X7eupLG9GK5rW6/4X89dKUc6Wv2uIdXV+z0xyCXbEGudmH+mFa6mI392XOB1miHQtLaT\n",
      "         TghC3VBvYCqJDiqpbztNOxAg+367h/PPy8uUzA0H5/5JUZlhtXWBr4XsOc9YJ7ELb6Wf\n",
      "         lwcO0cqCxsBLaZARCA0tXeynGpveNfknMIM21PnVXalu0yjBtu0w+x5rCyDx99os+HF8\n",
      "         6xgkrAEZq+yI4gpmZDopfF5Xw41U2Yl6vyTdur4STBiKI1NZeCgA6UCfJhcPA4DchCUp\n",
      "         ZQ6Q==\n",
      "X-Google-DKIM-Signature: v=1; a=rsa-sha256; c=relaxed/relaxed;\n",
      "        d=1e100.net; s=20161025;\n",
      "        h=x-gm-message-state:mime-version:from:date:message-id:subject:to;\n",
      "        bh=Fn4FGksh3QRoRFmKDUP4RSRsYan1Wmf+Cv7mBAKG3X0=;\n",
      "        b=NdFCBNLotP0zdeDe1qtiHAiuZRtXuIwZMhXDVisBw1sabjbkNBM5RmTg86JqSYPovT\n",
      "         hHFDGTSrhikACQ8Cr9tVsxya2TuNwV1Ki8AqFA9vB2BEyh3i0tWpWUq1jiE9T7w2c/Rr\n",
      "         IP9WzA2DrcaFY+/xLVw+zEfx5Q8e1RxlB4MkNySkKQRy8OYRsVreilYpof5WAO1I1OwP\n",
      "         q6z7vtPNLhrHXpoOIp4ICxKDWABztnc1nrRrGPeISiE4lS2zF7GbmMXfdPerR3vQvJz4\n",
      "         M32uSp7bp/n5t/y3pqEP5GL7vqshIdBcsPiJvKYuEwzVFYGwfyoQ8lUohCzRdXTgiby4\n",
      "         Z6bg==\n",
      "X-Gm-Message-State: AOAM533sBG5Z0BRWnn21RE2CqIDybXA0Xujtq0azA193Kr0QrWe5B2Zj\n",
      "\tnQMOCNO5eXRGnoEx+ThvTtVj9Fghe0ysM/t0HF1zZ72vCZw=\n",
      "X-Google-Smtp-Source: ABdhPJwkEihS2H3HSfhxympuCy+blGApANYkHoeiLUUTpVrur6aR+ny6FT5i5YPbroSpNUz/w8S8r+UUcchpzrpg0cQ=\n",
      "X-Received: by 2002:a63:150b:: with SMTP id v11mr6749102pgl.183.1612564239892;\n",
      " Fri, 05 Feb 2021 14:30:39 -0800 (PST)\n",
      "MIME-Version: 1.0\n",
      "From: Thomas Niedermayer <thomas.lukas.niedermayer@gmail.com>\n",
      "Date: Fri, 5 Feb 2021 23:30:03 +0100\n",
      "Message-ID: <CABnJexckOhduMjkq7iuxecxEY4H8NczPrmFoQP9uO_zr-juGkg@mail.gmail.com>\n",
      "Subject: =?UTF-8?B?w6TDpMOk?=\n",
      "To: team4@lumos-consulting.at\n",
      "Content-Type: multipart/alternative; boundary=\"000000000000b2460605ba9e5e19\"\n",
      "\n",
      "--000000000000b2460605ba9e5e19\n",
      "Content-Type: text/plain; charset=\"UTF-8\"\n",
      "Content-Transfer-Encoding: quoted-printable\n",
      "\n",
      "=C3=B6=C3=B6=C3=B6=C3=B6=C3=B6=C3=B6=C3=B6=C3=B6=C3=B6=C3=B6\n",
      "\n",
      "--=20\n",
      "Leystra=C3=9Fe 163\n",
      "A-1020 Wien\n",
      "Mobil: 0043-664-9172427\n",
      "E-Mail: thomas.lukas.niedermayer@gmail.com\n",
      "\n",
      "--000000000000b2460605ba9e5e19\n",
      "Content-Type: text/html; charset=\"UTF-8\"\n",
      "Content-Transfer-Encoding: quoted-printable\n",
      "\n",
      "<div dir=3D\"ltr\">=C3=B6=C3=B6=C3=B6=C3=B6=C3=B6=C3=B6=C3=B6=C3=B6=C3=B6=C3=\n",
      "=B6<br clear=3D\"all\"><div><br></div>-- <br><div dir=3D\"ltr\" class=3D\"gmail_=\n",
      "signature\" data-smartmail=3D\"gmail_signature\"><div dir=3D\"ltr\"><div>Leystra=\n",
      "=C3=9Fe 163<br>A-1020 Wien<br>Mobil: 0043-664-9172427<br>E-Mail: <a href=3D=\n",
      "\"mailto:thomas.lukas.niedermayer@gmail.com\" target=3D\"_blank\">thomas.lukas.=\n",
      "niedermayer@gmail.com</a></div></div></div></div>\n",
      "\n",
      "--000000000000b2460605ba9e5e19--\n",
      "\n",
      "****************************************************************************************************\n",
      "öööööööööö\n",
      "\n",
      "-- \n",
      "Leystraße 163\n",
      "A-1020 Wien\n",
      "Mobil: 0043-664-9172427\n",
      "E-Mail: thomas.lukas.niedermayer@gmail.com\n",
      "\n",
      "[5.9536361e-04 4.9965817e-04 2.9445384e-04 3.2002406e-04 4.4065379e-04\n",
      " 9.9784988e-01]\n",
      "[5.9536361e-04 4.9965817e-04 2.9445384e-04 3.2002406e-04 4.4065379e-04\n",
      " 9.9784988e-01]\n",
      "Content-Type: multipart/mixed; boundary=\"===============3429691415449417398==\"\n",
      "MIME-Version: 1.0\n",
      "to: thomas.n71@gmail.com\n",
      "from: team4@lumos-consulting.at\n",
      "subject: Abteilung 6:  =?UTF-8?B?w6TDpMOk?=\n",
      "\n",
      "--===============3429691415449417398==\n",
      "Content-Type: text/plain; charset=\"utf-8\"\n",
      "MIME-Version: 1.0\n",
      "Content-Transfer-Encoding: base64\n",
      "\n",
      "w7bDtsO2w7bDtsO2w7bDtsO2w7YNCg0KLS0gDQpMZXlzdHJhw59lIDE2Mw0KQS0xMDIwIFdpZW4N\n",
      "Ck1vYmlsOiAwMDQzLTY2NC05MTcyNDI3DQpFLU1haWw6IHRob21hcy5sdWthcy5uaWVkZXJtYXll\n",
      "ckBnbWFpbC5jb20NCgpfX19fX19fX19fX19fX19fX19fX19fX19fX19fX19fX19fX19fX19fX18K\n",
      "RGllc2UgTWFpbCBpc3QgbWl0IDk5Ljc4ICUgV2FocnNjaGVpbmxpY2hrZWl0IGbDvHIgQWJ0ZWls\n",
      "dW5nIDYgYmVzdGltbXQuCgpNaXQgMC4wNiAlIFdhaHJzY2hlaW5saWNoa2VpdCBrw7ZubnRlIFNp\n",
      "ZSBmw7xyIEFidGVpbHVuZyAxIHVuZCBtaXQgMC4wNSAlIFdhaHJzY2hlaW5saWNoa2VpdCBmw7xy\n",
      "IEFidGVpbHVuZyAyIGJlc3RpbW10IHNlaW4u\n",
      "\n",
      "--===============3429691415449417398==--\n",
      "\n",
      "b'Q29udGVudC1UeXBlOiBtdWx0aXBhcnQvbWl4ZWQ7IGJvdW5kYXJ5PSI9PT09PT09PT09PT09PT0zNDI5NjkxNDE1NDQ5NDE3Mzk4PT0iCk1JTUUtVmVyc2lvbjogMS4wCnRvOiB0aG9tYXMubjcxQGdtYWlsLmNvbQpmcm9tOiB0ZWFtNEBsdW1vcy1jb25zdWx0aW5nLmF0CnN1YmplY3Q6IEFidGVpbHVuZyA2OiAgPT9VVEYtOD9CP3c2VERwTU9rPz0KCi0tPT09PT09PT09PT09PT09MzQyOTY5MTQxNTQ0OTQxNzM5OD09CkNvbnRlbnQtVHlwZTogdGV4dC9wbGFpbjsgY2hhcnNldD0idXRmLTgiCk1JTUUtVmVyc2lvbjogMS4wCkNvbnRlbnQtVHJhbnNmZXItRW5jb2Rpbmc6IGJhc2U2NAoKdzdiRHRzTzJ3N2JEdHNPMnc3YkR0c08ydzdZTkNnMEtMUzBnRFFwTVpYbHpkSEpodzU5bElERTJNdzBLUVMweE1ESXdJRmRwWlc0TgpDazF2WW1sc09pQXdNRFF6TFRZMk5DMDVNVGN5TkRJM0RRcEZMVTFoYVd3NklIUm9iMjFoY3k1c2RXdGhjeTV1YVdWa1pYSnRZWGxsCmNrQm5iV0ZwYkM1amIyME5DZ3BmWDE5ZlgxOWZYMTlmWDE5ZlgxOWZYMTlmWDE5ZlgxOWZYMTlmWDE5ZlgxOWZYMTlmWDE5ZlgxOEsKUkdsbGMyVWdUV0ZwYkNCcGMzUWdiV2wwSURrNUxqYzRJQ1VnVjJGb2NuTmphR1ZwYm14cFkyaHJaV2wwSUdiRHZISWdRV0owWldscwpkVzVuSURZZ1ltVnpkR2x0YlhRdUNncE5hWFFnTUM0d05pQWxJRmRoYUhKelkyaGxhVzVzYVdOb2EyVnBkQ0JydzdadWJuUmxJRk5wClpTQm13N3h5SUVGaWRHVnBiSFZ1WnlBeElIVnVaQ0J0YVhRZ01DNHdOU0FsSUZkaGFISnpZMmhsYVc1c2FXTm9hMlZwZENCbXc3eHkKSUVGaWRHVnBiSFZ1WnlBeUlHSmxjM1JwYlcxMElITmxhVzR1CgotLT09PT09PT09PT09PT09PTM0Mjk2OTE0MTU0NDk0MTczOTg9PS0tCg=='\n",
      "Q29udGVudC1UeXBlOiBtdWx0aXBhcnQvbWl4ZWQ7IGJvdW5kYXJ5PSI9PT09PT09PT09PT09PT0zNDI5NjkxNDE1NDQ5NDE3Mzk4PT0iCk1JTUUtVmVyc2lvbjogMS4wCnRvOiB0aG9tYXMubjcxQGdtYWlsLmNvbQpmcm9tOiB0ZWFtNEBsdW1vcy1jb25zdWx0aW5nLmF0CnN1YmplY3Q6IEFidGVpbHVuZyA2OiAgPT9VVEYtOD9CP3c2VERwTU9rPz0KCi0tPT09PT09PT09PT09PT09MzQyOTY5MTQxNTQ0OTQxNzM5OD09CkNvbnRlbnQtVHlwZTogdGV4dC9wbGFpbjsgY2hhcnNldD0idXRmLTgiCk1JTUUtVmVyc2lvbjogMS4wCkNvbnRlbnQtVHJhbnNmZXItRW5jb2Rpbmc6IGJhc2U2NAoKdzdiRHRzTzJ3N2JEdHNPMnc3YkR0c08ydzdZTkNnMEtMUzBnRFFwTVpYbHpkSEpodzU5bElERTJNdzBLUVMweE1ESXdJRmRwWlc0TgpDazF2WW1sc09pQXdNRFF6TFRZMk5DMDVNVGN5TkRJM0RRcEZMVTFoYVd3NklIUm9iMjFoY3k1c2RXdGhjeTV1YVdWa1pYSnRZWGxsCmNrQm5iV0ZwYkM1amIyME5DZ3BmWDE5ZlgxOWZYMTlmWDE5ZlgxOWZYMTlmWDE5ZlgxOWZYMTlmWDE5ZlgxOWZYMTlmWDE5ZlgxOEsKUkdsbGMyVWdUV0ZwYkNCcGMzUWdiV2wwSURrNUxqYzRJQ1VnVjJGb2NuTmphR1ZwYm14cFkyaHJaV2wwSUdiRHZISWdRV0owWldscwpkVzVuSURZZ1ltVnpkR2x0YlhRdUNncE5hWFFnTUM0d05pQWxJRmRoYUhKelkyaGxhVzVzYVdOb2EyVnBkQ0JydzdadWJuUmxJRk5wClpTQm13N3h5SUVGaWRHVnBiSFZ1WnlBeElIVnVaQ0J0YVhRZ01DNHdOU0FsSUZkaGFISnpZMmhsYVc1c2FXTm9hMlZwZENCbXc3eHkKSUVGaWRHVnBiSFZ1WnlBeUlHSmxjM1JwYlcxMElITmxhVzR1CgotLT09PT09PT09PT09PT09PTM0Mjk2OTE0MTU0NDk0MTczOTg9PS0tCg==\n"
     ]
    },
    {
     "name": "stdout",
     "output_type": "stream",
     "text": [
      "Message Id: 1777452011bebfb0\n"
     ]
    }
   ],
   "source": [
    "import time\n",
    "while True:\n",
    "    \n",
    "    mail_weiterleitung(service)\n",
    "    time.sleep(5)"
   ]
  },
  {
   "cell_type": "code",
   "execution_count": null,
   "metadata": {},
   "outputs": [],
   "source": []
  },
  {
   "cell_type": "code",
   "execution_count": null,
   "metadata": {},
   "outputs": [],
   "source": []
  }
 ],
 "metadata": {
  "deepnote_execution_queue": [],
  "deepnote_notebook_id": "0b5984aa-1d6b-4789-80b1-0478f86a1999",
  "kernelspec": {
   "display_name": "Python 3",
   "language": "python",
   "name": "python3"
  },
  "language_info": {
   "codemirror_mode": {
    "name": "ipython",
    "version": 3
   },
   "file_extension": ".py",
   "mimetype": "text/x-python",
   "name": "python",
   "nbconvert_exporter": "python",
   "pygments_lexer": "ipython3",
   "version": "3.6.12"
  }
 },
 "nbformat": 4,
 "nbformat_minor": 4
}
