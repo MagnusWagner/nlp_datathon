{
 "cells": [
  {
   "cell_type": "code",
   "execution_count": 2,
   "id": "suitable-borough",
   "metadata": {},
   "outputs": [],
   "source": [
    "# !pip install fastai\n",
    "# !pip install -Uq transformers"
   ]
  },
  {
   "cell_type": "code",
   "execution_count": 2,
   "id": "affecting-clinton",
   "metadata": {},
   "outputs": [],
   "source": [
    "from fastai.basics import *\n",
    "from fastai.callback.all import *\n",
    "from fastai.text.all import *\n",
    "import pandas as pd\n",
    "import numpy as np\n",
    "import random\n",
    "from sklearn.model_selection import train_test_split\n",
    "# from fastai.data.all import *"
   ]
  },
  {
   "cell_type": "code",
   "execution_count": 3,
   "id": "higher-buffer",
   "metadata": {},
   "outputs": [
    {
     "data": {
      "text/html": [
       "<div>\n",
       "<style scoped>\n",
       "    .dataframe tbody tr th:only-of-type {\n",
       "        vertical-align: middle;\n",
       "    }\n",
       "\n",
       "    .dataframe tbody tr th {\n",
       "        vertical-align: top;\n",
       "    }\n",
       "\n",
       "    .dataframe thead th {\n",
       "        text-align: right;\n",
       "    }\n",
       "</style>\n",
       "<table border=\"1\" class=\"dataframe\">\n",
       "  <thead>\n",
       "    <tr style=\"text-align: right;\">\n",
       "      <th></th>\n",
       "      <th>Unnamed: 0</th>\n",
       "      <th>Narrative</th>\n",
       "      <th>Abteilung</th>\n",
       "    </tr>\n",
       "  </thead>\n",
       "  <tbody>\n",
       "    <tr>\n",
       "      <th>0</th>\n",
       "      <td>260</td>\n",
       "      <td>Ich bin begeistert von Ihren Programmen und nutze Windows 7 auf einem Notebook (was aber etwas umständlich ist, da zu klein) und einen iMac, welcher aufgrund der Größe wesentlich komfortabler ist. Sind Ihre Programme Apple-kompatibel? ...oder gibt es da etwaige Probleme oder Einschränkungen? Über eine schnelle Antwort würde ich mich freuen, da ich darauf brenne Ihre Programme zu nutzen.</td>\n",
       "      <td>4</td>\n",
       "    </tr>\n",
       "    <tr>\n",
       "      <th>1</th>\n",
       "      <td>210</td>\n",
       "      <td>Mein Super Bill administrator funktioniert nicht auf Windows 7 Wo kann ich eine abgrade Version bekommen ? oder muss ich das Programm neu kaufen ?</td>\n",
       "      <td>4</td>\n",
       "    </tr>\n",
       "    <tr>\n",
       "      <th>2</th>\n",
       "      <td>522</td>\n",
       "      <td>Sehr geehrter Damen und Herrn, am 31.10.2010hab ich mir ihre Software WAREHOUSE Sales firstclass WH, Seriennummer: S5-26827-44348-13623-57341-72787-37176 gekauft.  Ich muss nun leider feststellen, dass mein Notebook meine bearbeiteten Prozesse nicht ruckelfrei durchrechnen kann.   Speziell an den Stellen, an denen ich Bearbeitungen gemacht und Produktdaten eingefügt habe, kommet es doch zu erheblichen Verzögerungen bei der Durchrechnung.  Ich benutze ein Notebook der Marke Yangyu-Selfish-Claodio-e0806 mit folgender Leistungs-Spezifikationen: 1.Prozessor: Intel (R) Core (TM) 5 Duo CPU T543...</td>\n",
       "      <td>1</td>\n",
       "    </tr>\n",
       "    <tr>\n",
       "      <th>3</th>\n",
       "      <td>317</td>\n",
       "      <td>Vor dem Brenne tritt folgendes Problem auf.  Wo kann ich meinen Brenner einstellen, bzw. brauche ich einen neuen Brenner. Kann ja aber nicht wirklich sein?  Mein Brenner ist ein integrierter im Laptop.  Laptop HP Compaq 2850s Brenner/ Laufwerk GWWF corp. CD/DVDW TS-L403M SATA Device  Ich kann über den Imagecopier das Projekt abschliessen.  Vielen Dank für die Beantwortung.</td>\n",
       "      <td>2</td>\n",
       "    </tr>\n",
       "    <tr>\n",
       "      <th>4</th>\n",
       "      <td>436</td>\n",
       "      <td>Also ich habe mir kürzlich den Specs Manager 9 zugelegt. Nun ist mein Detailsheet fast fertig -24 Blätter/150 MB- es fehlen nur noch ein paar weitere Daten und dann könnte ich es entlich heraus geben... Leider hat sich aber nun ein Problem aufgetan das ich allein nicht lösen kann: Seit ein paar Tagen bekomme ich immer die Fehlermeldung \"Nicht ausreichender Speicher\" ich bekomme zur Zeit nicht mal mein Projekt vollständig über das Programm aufgerufen!!! Bei der Darstellung über das Programm sind einige Daten weg und bis auf 5-6 Blätter alle anderen auch...;o( Nur über die \"Blätter und Eben...</td>\n",
       "      <td>5</td>\n",
       "    </tr>\n",
       "  </tbody>\n",
       "</table>\n",
       "</div>"
      ],
      "text/plain": [
       "   Unnamed: 0  \\\n",
       "0         260   \n",
       "1         210   \n",
       "2         522   \n",
       "3         317   \n",
       "4         436   \n",
       "\n",
       "                                                                                                                                                                                                                                                                                                                                                                                                                                                                                                                                                                                                                 Narrative  \\\n",
       "0                                                                                                                                                                                                              Ich bin begeistert von Ihren Programmen und nutze Windows 7 auf einem Notebook (was aber etwas umständlich ist, da zu klein) und einen iMac, welcher aufgrund der Größe wesentlich komfortabler ist. Sind Ihre Programme Apple-kompatibel? ...oder gibt es da etwaige Probleme oder Einschränkungen? Über eine schnelle Antwort würde ich mich freuen, da ich darauf brenne Ihre Programme zu nutzen.         \n",
       "1                                                                                                                                                                                                                                                                                                                                                                                                                                                                 Mein Super Bill administrator funktioniert nicht auf Windows 7 Wo kann ich eine abgrade Version bekommen ? oder muss ich das Programm neu kaufen ?         \n",
       "2   Sehr geehrter Damen und Herrn, am 31.10.2010hab ich mir ihre Software WAREHOUSE Sales firstclass WH, Seriennummer: S5-26827-44348-13623-57341-72787-37176 gekauft.  Ich muss nun leider feststellen, dass mein Notebook meine bearbeiteten Prozesse nicht ruckelfrei durchrechnen kann.   Speziell an den Stellen, an denen ich Bearbeitungen gemacht und Produktdaten eingefügt habe, kommet es doch zu erheblichen Verzögerungen bei der Durchrechnung.  Ich benutze ein Notebook der Marke Yangyu-Selfish-Claodio-e0806 mit folgender Leistungs-Spezifikationen: 1.Prozessor: Intel (R) Core (TM) 5 Duo CPU T543...   \n",
       "3                                                                                                                                                                                                                            Vor dem Brenne tritt folgendes Problem auf.  Wo kann ich meinen Brenner einstellen, bzw. brauche ich einen neuen Brenner. Kann ja aber nicht wirklich sein?  Mein Brenner ist ein integrierter im Laptop.  Laptop HP Compaq 2850s Brenner/ Laufwerk GWWF corp. CD/DVDW TS-L403M SATA Device  Ich kann über den Imagecopier das Projekt abschliessen.  Vielen Dank für die Beantwortung.         \n",
       "4   Also ich habe mir kürzlich den Specs Manager 9 zugelegt. Nun ist mein Detailsheet fast fertig -24 Blätter/150 MB- es fehlen nur noch ein paar weitere Daten und dann könnte ich es entlich heraus geben... Leider hat sich aber nun ein Problem aufgetan das ich allein nicht lösen kann: Seit ein paar Tagen bekomme ich immer die Fehlermeldung \"Nicht ausreichender Speicher\" ich bekomme zur Zeit nicht mal mein Projekt vollständig über das Programm aufgerufen!!! Bei der Darstellung über das Programm sind einige Daten weg und bis auf 5-6 Blätter alle anderen auch...;o( Nur über die \"Blätter und Eben...   \n",
       "\n",
       "   Abteilung  \n",
       "0          4  \n",
       "1          4  \n",
       "2          1  \n",
       "3          2  \n",
       "4          5  "
      ]
     },
     "execution_count": 3,
     "metadata": {},
     "output_type": "execute_result"
    }
   ],
   "source": [
    "df_train=pd.read_csv(\"data/train.csv\")\n",
    "df_train.head()"
   ]
  },
  {
   "cell_type": "code",
   "execution_count": 4,
   "id": "indoor-attachment",
   "metadata": {},
   "outputs": [],
   "source": [
    "# mask = np.ones(df_train.shape[0], np.bool)\n",
    "# xsplit = np.array(random.sample(range(df_train.shape[0]),round(0.8*df_train.shape[0])))\n",
    "# mask[xsplit] = 0\n",
    "# ysplit=np.arange(df_train.shape[0])[mask]\n",
    "# splits=[xsplit,ysplit]"
   ]
  },
  {
   "cell_type": "markdown",
   "id": "prerequisite-lounge",
   "metadata": {},
   "source": [
    "Hilfsfunktionen, mit denen das aufbauen des DataBlocks 10mal so schnell ging. Ich lasse sie lieber raus, da ich mir unsicher bin, ob die Labels gleich bleiben."
   ]
  },
  {
   "cell_type": "code",
   "execution_count": 5,
   "id": "experimental-connectivity",
   "metadata": {},
   "outputs": [],
   "source": [
    "def getItems(dataframePath):\n",
    "    return np.asarray(pd.read_csv(dataframePath,sep=\",\").iloc[:,1:])\n",
    "def getX(row):\n",
    "    return row[0]\n",
    "def getY(row):\n",
    "    return row[1]"
   ]
  },
  {
   "cell_type": "markdown",
   "id": "recognized-planning",
   "metadata": {},
   "source": [
    "Die Daten kommen zuerst in den DataBlock um anschließend mit dem simplen DataLoader tokenized zu werden."
   ]
  },
  {
   "cell_type": "code",
   "execution_count": 9,
   "id": "announced-lawrence",
   "metadata": {},
   "outputs": [
    {
     "data": {
      "text/html": [],
      "text/plain": [
       "<IPython.core.display.HTML object>"
      ]
     },
     "metadata": {},
     "output_type": "display_data"
    },
    {
     "name": "stderr",
     "output_type": "stream",
     "text": [
      "C:\\Users\\Magnus\\miniconda3\\lib\\site-packages\\numpy\\core\\_asarray.py:83: VisibleDeprecationWarning: Creating an ndarray from ragged nested sequences (which is a list-or-tuple of lists-or-tuples-or ndarrays with different lengths or shapes) is deprecated. If you meant to do this, you must specify 'dtype=object' when creating the ndarray\n",
      "  return array(a, dtype, copy=False, order=order)\n"
     ]
    }
   ],
   "source": [
    "# tfms = [attrgetter(\"text\"), Tokenizer.from_df(0), Numericalize()]\n",
    "\n",
    "# dblock = DataBlock(blocks=(TextBlock.from_df(\"Narrative\",seq_len=72),CategoryBlock),\n",
    "#                    get_x=ColReader(\"text\"),\n",
    "#                    get_y=ColReader(\"Abteilung\"),\n",
    "#                    splitter=RandomSplitter())\n",
    "# dls = dblock.dataloaders(df_train, bs=16, num_workers=0)"
   ]
  },
  {
   "cell_type": "markdown",
   "id": "lonely-editor",
   "metadata": {},
   "source": [
    "Das ganze funktioniert auch mit dem Wrapper TextDataLoaders."
   ]
  },
  {
   "cell_type": "code",
   "execution_count": 11,
   "id": "lesbian-graph",
   "metadata": {},
   "outputs": [
    {
     "data": {
      "text/html": [],
      "text/plain": [
       "<IPython.core.display.HTML object>"
      ]
     },
     "metadata": {},
     "output_type": "display_data"
    },
    {
     "name": "stderr",
     "output_type": "stream",
     "text": [
      "C:\\Users\\Magnus\\miniconda3\\lib\\site-packages\\numpy\\core\\_asarray.py:83: VisibleDeprecationWarning: Creating an ndarray from ragged nested sequences (which is a list-or-tuple of lists-or-tuples-or ndarrays with different lengths or shapes) is deprecated. If you meant to do this, you must specify 'dtype=object' when creating the ndarray\n",
      "  return array(a, dtype, copy=False, order=order)\n"
     ]
    }
   ],
   "source": [
    "dls2=TextDataLoaders.from_csv(path=\"data/\", csv_fname='train.csv', text_col=\"Narrative\", label_col=\"Abteilung\")"
   ]
  },
  {
   "cell_type": "code",
   "execution_count": 12,
   "id": "paperback-furniture",
   "metadata": {},
   "outputs": [
    {
     "data": {
      "text/html": [
       "<table border=\"1\" class=\"dataframe\">\n",
       "  <thead>\n",
       "    <tr style=\"text-align: right;\">\n",
       "      <th></th>\n",
       "      <th>text</th>\n",
       "      <th>category</th>\n",
       "    </tr>\n",
       "  </thead>\n",
       "  <tbody>\n",
       "    <tr>\n",
       "      <th>0</th>\n",
       "      <td>xxbos xxmaj xxunk zu d. bereits xxunk xxmaj ticket # : xxunk xxrep 3 2 xxunk : xxmaj hallo xxmaj herr xxmaj krempler , zuerst einmal xxunk ich xxmaj ihnen xxunk xxmaj xxunk gehabt zu haben und alles xxmaj gute und xxunk xxmaj xxunk für das neue xxmaj jahr ! xxmaj leider muss ich mich noch einmal an xxmaj sie wenden , da ich weiterhin xxmaj probleme habe überhaupt die xxmaj abläufe zu laden . xxmaj ich habe mehrfach versucht , die xxmaj treiberversion xxunk xxmaj ihren xxmaj xxunk zu laden . xxmaj ich habe ein xxmaj xxunk - xxmaj notebook n 25 l - xxmaj xxunk xxunk - xxmaj betriebssystem xxmaj windows xxup xp xxmaj also : - zuerst xxunk , daß xxmaj updates für die xxmaj xxunk xxunk waren - den xxup usb - xxmaj stick ohne weitere xxmaj xxunk an der xxmaj xxunk des xxmaj notebook xxunk</td>\n",
       "      <td>4</td>\n",
       "    </tr>\n",
       "    <tr>\n",
       "      <th>1</th>\n",
       "      <td>xxbos xxmaj xxunk ,    vielen xxmaj dank für xxmaj ihre xxmaj antwort   , jedoch das xxmaj problem ist noch nicht gelöst . xxmaj i m xxmaj xxunk auf \" erweiterte xxmaj einstellungen \" erscheint bei mir als xxmaj scanquelle weder xxunk noch xxunk xxmaj device . xxmaj i m xxmaj gerätemanager ist hinter der xxmaj komponente xxup usb xxunk xxmaj device ein xxunk xxmaj xxunk . xxmaj unter xxmaj xxunk für dieses \" gerät \" steht : \" die xxmaj treiber für dieses xxmaj gerät konnten nicht installiert werden . ( code 31 ) \" xxmaj ich habe von ihrer xxmaj seite schon die xxmaj datei \" xxunk heruntergeladen und mit xxunk xxmaj prozessverwalter ausgeführt . xxmaj kein xxmaj ergebnis . xxmaj was xxunk xxmaj sie vor ?   mfg xxup u. xxmaj xxunk \" warehouse xxmaj helpdesk \" &lt; xxunk &gt; schrieb : xxmaj guten xxmaj abend</td>\n",
       "      <td>4</td>\n",
       "    </tr>\n",
       "  </tbody>\n",
       "</table>"
      ],
      "text/plain": [
       "<IPython.core.display.HTML object>"
      ]
     },
     "metadata": {},
     "output_type": "display_data"
    }
   ],
   "source": [
    "dls2.show_batch(max_n=2)"
   ]
  },
  {
   "cell_type": "code",
   "execution_count": 15,
   "id": "polished-buffalo",
   "metadata": {},
   "outputs": [],
   "source": [
    "learn = language_model_learner(dls2, AWD_LSTM, metrics=[accuracy, Perplexity()], wd=0.1).to_fp16()\n",
    "# config = awd_lstm_lm_config.copy()\n",
    "# model = get_language_model(AWD_LSTM, len(dls.vocab), config=config)\n",
    "# opt_func = partial(Adam, wd=0.1, eps=1e-7)\n",
    "# learn = Learner(dls2, model, loss_func=CrossEntropyLossFlat(),opt_func=opt_func, metrics=[accuracy, Perplexity()])"
   ]
  },
  {
   "cell_type": "code",
   "execution_count": null,
   "id": "informed-shipping",
   "metadata": {},
   "outputs": [
    {
     "data": {
      "text/html": [
       "\n",
       "    <div>\n",
       "        <style>\n",
       "            /* Turns off some styling */\n",
       "            progress {\n",
       "                /* gets rid of default border in Firefox and Opera. */\n",
       "                border: none;\n",
       "                /* Needs to be in here for Safari polyfill so background images work as expected. */\n",
       "                background-size: auto;\n",
       "            }\n",
       "            .progress-bar-interrupted, .progress-bar-interrupted::-webkit-progress-bar {\n",
       "                background: #F44336;\n",
       "            }\n",
       "        </style>\n",
       "      <progress value='0' class='' max='1' style='width:300px; height:20px; vertical-align: middle;'></progress>\n",
       "      0.00% [0/1 00:00<00:00]\n",
       "    </div>\n",
       "    \n",
       "<table border=\"1\" class=\"dataframe\">\n",
       "  <thead>\n",
       "    <tr style=\"text-align: left;\">\n",
       "      <th>epoch</th>\n",
       "      <th>train_loss</th>\n",
       "      <th>valid_loss</th>\n",
       "      <th>accuracy</th>\n",
       "      <th>perplexity</th>\n",
       "      <th>time</th>\n",
       "    </tr>\n",
       "  </thead>\n",
       "  <tbody>\n",
       "  </tbody>\n",
       "</table><p>\n",
       "\n",
       "    <div>\n",
       "        <style>\n",
       "            /* Turns off some styling */\n",
       "            progress {\n",
       "                /* gets rid of default border in Firefox and Opera. */\n",
       "                border: none;\n",
       "                /* Needs to be in here for Safari polyfill so background images work as expected. */\n",
       "                background-size: auto;\n",
       "            }\n",
       "            .progress-bar-interrupted, .progress-bar-interrupted::-webkit-progress-bar {\n",
       "                background: #F44336;\n",
       "            }\n",
       "        </style>\n",
       "      <progress value='0' class='' max='7' style='width:300px; height:20px; vertical-align: middle;'></progress>\n",
       "      0.00% [0/7 00:00<00:00]\n",
       "    </div>\n",
       "    "
      ],
      "text/plain": [
       "<IPython.core.display.HTML object>"
      ]
     },
     "metadata": {},
     "output_type": "display_data"
    }
   ],
   "source": [
    "learn.fit_one_cycle(1, 1e-2)\n",
    "# learn.destroy"
   ]
  },
  {
   "cell_type": "code",
   "execution_count": 12,
   "id": "institutional-concert",
   "metadata": {},
   "outputs": [],
   "source": [
    "import torch\n",
    "torch.cuda.empty_cache()"
   ]
  },
  {
   "cell_type": "code",
   "execution_count": 15,
   "id": "continuous-beast",
   "metadata": {},
   "outputs": [
    {
     "name": "stdout",
     "output_type": "stream",
     "text": [
      "Total memory: 8589934592\n",
      "Free memory: 4629397504\n",
      "Used memory: 3960537088\n"
     ]
    }
   ],
   "source": [
    "from pynvml import *\n",
    "nvmlInit()\n",
    "handle = nvmlDeviceGetHandleByIndex(0)\n",
    "info = nvmlDeviceGetMemoryInfo(handle)\n",
    "print(\"Total memory:\", info.total)\n",
    "print(\"Free memory:\", info.free)\n",
    "print(\"Used memory:\", info.used)"
   ]
  },
  {
   "cell_type": "code",
   "execution_count": null,
   "id": "modified-discount",
   "metadata": {},
   "outputs": [],
   "source": []
  }
 ],
 "metadata": {
  "kernelspec": {
   "display_name": "Python 3",
   "language": "python",
   "name": "python3"
  },
  "language_info": {
   "codemirror_mode": {
    "name": "ipython",
    "version": 3
   },
   "file_extension": ".py",
   "mimetype": "text/x-python",
   "name": "python",
   "nbconvert_exporter": "python",
   "pygments_lexer": "ipython3",
   "version": "3.7.9"
  }
 },
 "nbformat": 4,
 "nbformat_minor": 5
}
